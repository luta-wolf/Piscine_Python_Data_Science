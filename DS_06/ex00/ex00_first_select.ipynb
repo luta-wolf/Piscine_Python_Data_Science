{
 "cells": [
  {
   "cell_type": "code",
   "execution_count": 1,
   "metadata": {},
   "outputs": [],
   "source": [
    "import pandas as pd\n",
    "import sqlite3"
   ]
  },
  {
   "cell_type": "markdown",
   "metadata": {},
   "source": [
    "• create a connection to the database using the library sqlite3"
   ]
  },
  {
   "cell_type": "code",
   "execution_count": 2,
   "metadata": {},
   "outputs": [],
   "source": [
    "conn = sqlite3.connect('../checking-logs.sqlite.sqlite')"
   ]
  },
  {
   "cell_type": "markdown",
   "metadata": {},
   "source": [
    "• get the schema of the table pageviews using pd.io.sql.read_sql and the query\n",
    "\"PRAGMA table_info(pageviews);\""
   ]
  },
  {
   "cell_type": "code",
   "execution_count": 3,
   "metadata": {},
   "outputs": [
    {
     "data": {
      "text/html": [
       "<div>\n",
       "<style scoped>\n",
       "    .dataframe tbody tr th:only-of-type {\n",
       "        vertical-align: middle;\n",
       "    }\n",
       "\n",
       "    .dataframe tbody tr th {\n",
       "        vertical-align: top;\n",
       "    }\n",
       "\n",
       "    .dataframe thead th {\n",
       "        text-align: right;\n",
       "    }\n",
       "</style>\n",
       "<table border=\"1\" class=\"dataframe\">\n",
       "  <thead>\n",
       "    <tr style=\"text-align: right;\">\n",
       "      <th></th>\n",
       "      <th>cid</th>\n",
       "      <th>name</th>\n",
       "      <th>type</th>\n",
       "      <th>notnull</th>\n",
       "      <th>dflt_value</th>\n",
       "      <th>pk</th>\n",
       "    </tr>\n",
       "  </thead>\n",
       "  <tbody>\n",
       "    <tr>\n",
       "      <th>0</th>\n",
       "      <td>0</td>\n",
       "      <td>index</td>\n",
       "      <td>INTEGER</td>\n",
       "      <td>0</td>\n",
       "      <td>None</td>\n",
       "      <td>0</td>\n",
       "    </tr>\n",
       "    <tr>\n",
       "      <th>1</th>\n",
       "      <td>1</td>\n",
       "      <td>uid</td>\n",
       "      <td>TEXT</td>\n",
       "      <td>0</td>\n",
       "      <td>None</td>\n",
       "      <td>0</td>\n",
       "    </tr>\n",
       "    <tr>\n",
       "      <th>2</th>\n",
       "      <td>2</td>\n",
       "      <td>datetime</td>\n",
       "      <td>TIMESTAMP</td>\n",
       "      <td>0</td>\n",
       "      <td>None</td>\n",
       "      <td>0</td>\n",
       "    </tr>\n",
       "  </tbody>\n",
       "</table>\n",
       "</div>"
      ],
      "text/plain": [
       "   cid      name       type  notnull dflt_value  pk\n",
       "0    0     index    INTEGER        0       None   0\n",
       "1    1       uid       TEXT        0       None   0\n",
       "2    2  datetime  TIMESTAMP        0       None   0"
      ]
     },
     "execution_count": 3,
     "metadata": {},
     "output_type": "execute_result"
    }
   ],
   "source": [
    "pd.io.sql.read_sql(\"PRAGMA table_info(pageviews);\", conn)"
   ]
  },
  {
   "cell_type": "markdown",
   "metadata": {},
   "source": [
    "• get only the first 10 rows of the table pageviews to check what the table looks like"
   ]
  },
  {
   "cell_type": "code",
   "execution_count": 4,
   "metadata": {},
   "outputs": [
    {
     "data": {
      "text/plain": [
       "[(0, 'admin_1', '2020-04-17 12:01:08.463179'),\n",
       " (1, 'admin_1', '2020-04-17 12:01:23.743946'),\n",
       " (2, 'admin_3', '2020-04-17 12:17:39.287778'),\n",
       " (3, 'admin_3', '2020-04-17 12:17:40.001768'),\n",
       " (4, 'admin_1', '2020-04-17 12:27:30.646665'),\n",
       " (5, 'admin_1', '2020-04-17 12:35:44.884757'),\n",
       " (6, 'admin_1', '2020-04-17 12:35:52.735016'),\n",
       " (7, 'admin_3', '2020-04-17 12:36:21.401412'),\n",
       " (8, 'admin_3', '2020-04-17 12:36:22.023355'),\n",
       " (9, 'admin_1', '2020-04-17 13:55:19.129243')]"
      ]
     },
     "execution_count": 4,
     "metadata": {},
     "output_type": "execute_result"
    }
   ],
   "source": [
    "cursor = conn.cursor()\n",
    "cursor.execute('select * from pageviews')\n",
    "cursor.fetchmany(10)"
   ]
  },
  {
   "cell_type": "markdown",
   "metadata": {},
   "source": [
    "• get the subtable using only one query where:<br>\n",
    "◦ only uid and datetime are used<br>\n",
    "◦ only user data (user_*) is used and not admin data<br>\n",
    "◦ it is sorted by uid in ascending order<br>\n",
    "◦ the index column is datetime<br>\n",
    "◦ datetime is converted to DatetimeIndex<br>\n",
    "◦ the name of the dataframe is pageviews"
   ]
  },
  {
   "cell_type": "code",
   "execution_count": 5,
   "metadata": {},
   "outputs": [
    {
     "data": {
      "text/html": [
       "<div>\n",
       "<style scoped>\n",
       "    .dataframe tbody tr th:only-of-type {\n",
       "        vertical-align: middle;\n",
       "    }\n",
       "\n",
       "    .dataframe tbody tr th {\n",
       "        vertical-align: top;\n",
       "    }\n",
       "\n",
       "    .dataframe thead th {\n",
       "        text-align: right;\n",
       "    }\n",
       "</style>\n",
       "<table border=\"1\" class=\"dataframe\">\n",
       "  <thead>\n",
       "    <tr style=\"text-align: right;\">\n",
       "      <th></th>\n",
       "      <th>uid</th>\n",
       "    </tr>\n",
       "    <tr>\n",
       "      <th>datetime</th>\n",
       "      <th></th>\n",
       "    </tr>\n",
       "  </thead>\n",
       "  <tbody>\n",
       "    <tr>\n",
       "      <th>2020-04-26 21:53:59.624136</th>\n",
       "      <td>user_1</td>\n",
       "    </tr>\n",
       "    <tr>\n",
       "      <th>2020-04-26 22:06:19.478143</th>\n",
       "      <td>user_1</td>\n",
       "    </tr>\n",
       "    <tr>\n",
       "      <th>2020-04-26 22:12:09.614497</th>\n",
       "      <td>user_1</td>\n",
       "    </tr>\n",
       "    <tr>\n",
       "      <th>2020-04-30 19:29:01.831635</th>\n",
       "      <td>user_1</td>\n",
       "    </tr>\n",
       "    <tr>\n",
       "      <th>2020-05-05 20:26:32.894852</th>\n",
       "      <td>user_1</td>\n",
       "    </tr>\n",
       "    <tr>\n",
       "      <th>...</th>\n",
       "      <td>...</td>\n",
       "    </tr>\n",
       "    <tr>\n",
       "      <th>2020-04-29 16:51:21.877630</th>\n",
       "      <td>user_30</td>\n",
       "    </tr>\n",
       "    <tr>\n",
       "      <th>2020-05-09 20:30:47.034282</th>\n",
       "      <td>user_30</td>\n",
       "    </tr>\n",
       "    <tr>\n",
       "      <th>2020-05-22 11:30:18.368990</th>\n",
       "      <td>user_5</td>\n",
       "    </tr>\n",
       "    <tr>\n",
       "      <th>2020-05-21 16:28:28.217529</th>\n",
       "      <td>user_9</td>\n",
       "    </tr>\n",
       "    <tr>\n",
       "      <th>2020-05-21 16:36:40.915488</th>\n",
       "      <td>user_9</td>\n",
       "    </tr>\n",
       "  </tbody>\n",
       "</table>\n",
       "<p>987 rows × 1 columns</p>\n",
       "</div>"
      ],
      "text/plain": [
       "                                uid\n",
       "datetime                           \n",
       "2020-04-26 21:53:59.624136   user_1\n",
       "2020-04-26 22:06:19.478143   user_1\n",
       "2020-04-26 22:12:09.614497   user_1\n",
       "2020-04-30 19:29:01.831635   user_1\n",
       "2020-05-05 20:26:32.894852   user_1\n",
       "...                             ...\n",
       "2020-04-29 16:51:21.877630  user_30\n",
       "2020-05-09 20:30:47.034282  user_30\n",
       "2020-05-22 11:30:18.368990   user_5\n",
       "2020-05-21 16:28:28.217529   user_9\n",
       "2020-05-21 16:36:40.915488   user_9\n",
       "\n",
       "[987 rows x 1 columns]"
      ]
     },
     "execution_count": 5,
     "metadata": {},
     "output_type": "execute_result"
    }
   ],
   "source": [
    "query = \"SELECT uid, datetime FROM pageviews \\\n",
    "WHERE uid LIKE 'user_%' \\\n",
    "ORDER BY uid ASC\"\n",
    "pageviews = pd.io.sql.read_sql(query, conn, index_col='datetime', parse_dates='datetime')\n",
    "# pageviews.index.name = 'DatetimeIndex'\n",
    "pageviews"
   ]
  },
  {
   "cell_type": "code",
   "execution_count": 6,
   "metadata": {},
   "outputs": [
    {
     "name": "stdout",
     "output_type": "stream",
     "text": [
      "<class 'pandas.core.frame.DataFrame'>\n",
      "DatetimeIndex: 987 entries, 2020-04-26 21:53:59.624136 to 2020-05-21 16:36:40.915488\n",
      "Data columns (total 1 columns):\n",
      " #   Column  Non-Null Count  Dtype \n",
      "---  ------  --------------  ----- \n",
      " 0   uid     987 non-null    object\n",
      "dtypes: object(1)\n",
      "memory usage: 15.4+ KB\n"
     ]
    }
   ],
   "source": [
    "pageviews.info()"
   ]
  },
  {
   "cell_type": "markdown",
   "metadata": {},
   "source": [
    "• close the connection to the database"
   ]
  },
  {
   "cell_type": "code",
   "execution_count": 7,
   "metadata": {},
   "outputs": [],
   "source": [
    "cursor.close()\n",
    "conn.close()"
   ]
  }
 ],
 "metadata": {
  "interpreter": {
   "hash": "707756577c0df263f0d62c8db42a0da0ef5bdb0a35b75f46df1f59f7e56bfceb"
  },
  "kernelspec": {
   "display_name": "Python 3.9.12 64-bit",
   "language": "python",
   "name": "python3"
  },
  "language_info": {
   "codemirror_mode": {
    "name": "ipython",
    "version": 3
   },
   "file_extension": ".py",
   "mimetype": "text/x-python",
   "name": "python",
   "nbconvert_exporter": "python",
   "pygments_lexer": "ipython3",
   "version": "3.9.12"
  },
  "orig_nbformat": 4
 },
 "nbformat": 4,
 "nbformat_minor": 2
}
