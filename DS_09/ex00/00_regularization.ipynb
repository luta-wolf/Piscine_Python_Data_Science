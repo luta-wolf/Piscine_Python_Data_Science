{
 "cells": [
  {
   "cell_type": "markdown",
   "metadata": {},
   "source": [
    "# Day 09. Exercise 00\n",
    "# Regularization"
   ]
  },
  {
   "cell_type": "markdown",
   "metadata": {},
   "source": [
    "## 0. Imports"
   ]
  },
  {
   "cell_type": "code",
   "execution_count": 1,
   "metadata": {},
   "outputs": [],
   "source": [
    "import pandas as pd\n",
    "import numpy as np\n",
    "from sklearn.model_selection import train_test_split\n",
    "from sklearn.linear_model import LogisticRegression\n",
    "from sklearn.model_selection import StratifiedKFold, KFold\n",
    "from sklearn.metrics import accuracy_score\n",
    "from sklearn.multiclass import OneVsRestClassifier\n",
    "from sklearn.svm import SVC\n",
    "from sklearn.ensemble import RandomForestClassifier\n",
    "from sklearn import tree\n",
    "from sklearn.model_selection import GridSearchCV"
   ]
  },
  {
   "cell_type": "markdown",
   "metadata": {},
   "source": [
    "## 1. Preprocessing"
   ]
  },
  {
   "cell_type": "markdown",
   "metadata": {},
   "source": [
    "1. Read the file `dayofweek.csv` that you used in the previous day to a dataframe.\n",
    "2. Using `train_test_split` with parameters `test_size=0.2`, `random_state=21` get `X_train`, `y_train`, `X_test`, `y_test`. Use the additional parameter `stratify`."
   ]
  },
  {
   "cell_type": "code",
   "execution_count": 2,
   "metadata": {},
   "outputs": [
    {
     "data": {
      "text/html": [
       "<div>\n",
       "<style scoped>\n",
       "    .dataframe tbody tr th:only-of-type {\n",
       "        vertical-align: middle;\n",
       "    }\n",
       "\n",
       "    .dataframe tbody tr th {\n",
       "        vertical-align: top;\n",
       "    }\n",
       "\n",
       "    .dataframe thead th {\n",
       "        text-align: right;\n",
       "    }\n",
       "</style>\n",
       "<table border=\"1\" class=\"dataframe\">\n",
       "  <thead>\n",
       "    <tr style=\"text-align: right;\">\n",
       "      <th></th>\n",
       "      <th>numTrials</th>\n",
       "      <th>hour</th>\n",
       "      <th>dayofweek</th>\n",
       "      <th>uid_user_0</th>\n",
       "      <th>uid_user_1</th>\n",
       "      <th>uid_user_10</th>\n",
       "      <th>uid_user_11</th>\n",
       "      <th>uid_user_12</th>\n",
       "      <th>uid_user_13</th>\n",
       "      <th>uid_user_14</th>\n",
       "      <th>...</th>\n",
       "      <th>labname_lab02</th>\n",
       "      <th>labname_lab03</th>\n",
       "      <th>labname_lab03s</th>\n",
       "      <th>labname_lab05s</th>\n",
       "      <th>labname_laba04</th>\n",
       "      <th>labname_laba04s</th>\n",
       "      <th>labname_laba05</th>\n",
       "      <th>labname_laba06</th>\n",
       "      <th>labname_laba06s</th>\n",
       "      <th>labname_project1</th>\n",
       "    </tr>\n",
       "  </thead>\n",
       "  <tbody>\n",
       "    <tr>\n",
       "      <th>0</th>\n",
       "      <td>-0.788667</td>\n",
       "      <td>-2.562352</td>\n",
       "      <td>4</td>\n",
       "      <td>0</td>\n",
       "      <td>0</td>\n",
       "      <td>0</td>\n",
       "      <td>0</td>\n",
       "      <td>0</td>\n",
       "      <td>0</td>\n",
       "      <td>0</td>\n",
       "      <td>...</td>\n",
       "      <td>0</td>\n",
       "      <td>0</td>\n",
       "      <td>0</td>\n",
       "      <td>0</td>\n",
       "      <td>0</td>\n",
       "      <td>0</td>\n",
       "      <td>0</td>\n",
       "      <td>0</td>\n",
       "      <td>0</td>\n",
       "      <td>1</td>\n",
       "    </tr>\n",
       "    <tr>\n",
       "      <th>1</th>\n",
       "      <td>-0.756764</td>\n",
       "      <td>-2.562352</td>\n",
       "      <td>4</td>\n",
       "      <td>0</td>\n",
       "      <td>0</td>\n",
       "      <td>0</td>\n",
       "      <td>0</td>\n",
       "      <td>0</td>\n",
       "      <td>0</td>\n",
       "      <td>0</td>\n",
       "      <td>...</td>\n",
       "      <td>0</td>\n",
       "      <td>0</td>\n",
       "      <td>0</td>\n",
       "      <td>0</td>\n",
       "      <td>0</td>\n",
       "      <td>0</td>\n",
       "      <td>0</td>\n",
       "      <td>0</td>\n",
       "      <td>0</td>\n",
       "      <td>1</td>\n",
       "    </tr>\n",
       "    <tr>\n",
       "      <th>2</th>\n",
       "      <td>-0.724861</td>\n",
       "      <td>-2.562352</td>\n",
       "      <td>4</td>\n",
       "      <td>0</td>\n",
       "      <td>0</td>\n",
       "      <td>0</td>\n",
       "      <td>0</td>\n",
       "      <td>0</td>\n",
       "      <td>0</td>\n",
       "      <td>0</td>\n",
       "      <td>...</td>\n",
       "      <td>0</td>\n",
       "      <td>0</td>\n",
       "      <td>0</td>\n",
       "      <td>0</td>\n",
       "      <td>0</td>\n",
       "      <td>0</td>\n",
       "      <td>0</td>\n",
       "      <td>0</td>\n",
       "      <td>0</td>\n",
       "      <td>1</td>\n",
       "    </tr>\n",
       "    <tr>\n",
       "      <th>3</th>\n",
       "      <td>-0.692958</td>\n",
       "      <td>-2.562352</td>\n",
       "      <td>4</td>\n",
       "      <td>0</td>\n",
       "      <td>0</td>\n",
       "      <td>0</td>\n",
       "      <td>0</td>\n",
       "      <td>0</td>\n",
       "      <td>0</td>\n",
       "      <td>0</td>\n",
       "      <td>...</td>\n",
       "      <td>0</td>\n",
       "      <td>0</td>\n",
       "      <td>0</td>\n",
       "      <td>0</td>\n",
       "      <td>0</td>\n",
       "      <td>0</td>\n",
       "      <td>0</td>\n",
       "      <td>0</td>\n",
       "      <td>0</td>\n",
       "      <td>1</td>\n",
       "    </tr>\n",
       "    <tr>\n",
       "      <th>4</th>\n",
       "      <td>-0.661055</td>\n",
       "      <td>-2.562352</td>\n",
       "      <td>4</td>\n",
       "      <td>0</td>\n",
       "      <td>0</td>\n",
       "      <td>0</td>\n",
       "      <td>0</td>\n",
       "      <td>0</td>\n",
       "      <td>0</td>\n",
       "      <td>0</td>\n",
       "      <td>...</td>\n",
       "      <td>0</td>\n",
       "      <td>0</td>\n",
       "      <td>0</td>\n",
       "      <td>0</td>\n",
       "      <td>0</td>\n",
       "      <td>0</td>\n",
       "      <td>0</td>\n",
       "      <td>0</td>\n",
       "      <td>0</td>\n",
       "      <td>1</td>\n",
       "    </tr>\n",
       "    <tr>\n",
       "      <th>...</th>\n",
       "      <td>...</td>\n",
       "      <td>...</td>\n",
       "      <td>...</td>\n",
       "      <td>...</td>\n",
       "      <td>...</td>\n",
       "      <td>...</td>\n",
       "      <td>...</td>\n",
       "      <td>...</td>\n",
       "      <td>...</td>\n",
       "      <td>...</td>\n",
       "      <td>...</td>\n",
       "      <td>...</td>\n",
       "      <td>...</td>\n",
       "      <td>...</td>\n",
       "      <td>...</td>\n",
       "      <td>...</td>\n",
       "      <td>...</td>\n",
       "      <td>...</td>\n",
       "      <td>...</td>\n",
       "      <td>...</td>\n",
       "      <td>...</td>\n",
       "    </tr>\n",
       "    <tr>\n",
       "      <th>1681</th>\n",
       "      <td>-0.533442</td>\n",
       "      <td>0.945382</td>\n",
       "      <td>3</td>\n",
       "      <td>0</td>\n",
       "      <td>0</td>\n",
       "      <td>0</td>\n",
       "      <td>0</td>\n",
       "      <td>0</td>\n",
       "      <td>0</td>\n",
       "      <td>0</td>\n",
       "      <td>...</td>\n",
       "      <td>0</td>\n",
       "      <td>0</td>\n",
       "      <td>0</td>\n",
       "      <td>0</td>\n",
       "      <td>0</td>\n",
       "      <td>0</td>\n",
       "      <td>0</td>\n",
       "      <td>0</td>\n",
       "      <td>1</td>\n",
       "      <td>0</td>\n",
       "    </tr>\n",
       "    <tr>\n",
       "      <th>1682</th>\n",
       "      <td>-0.629151</td>\n",
       "      <td>0.945382</td>\n",
       "      <td>3</td>\n",
       "      <td>0</td>\n",
       "      <td>1</td>\n",
       "      <td>0</td>\n",
       "      <td>0</td>\n",
       "      <td>0</td>\n",
       "      <td>0</td>\n",
       "      <td>0</td>\n",
       "      <td>...</td>\n",
       "      <td>0</td>\n",
       "      <td>0</td>\n",
       "      <td>0</td>\n",
       "      <td>0</td>\n",
       "      <td>0</td>\n",
       "      <td>0</td>\n",
       "      <td>0</td>\n",
       "      <td>0</td>\n",
       "      <td>1</td>\n",
       "      <td>0</td>\n",
       "    </tr>\n",
       "    <tr>\n",
       "      <th>1683</th>\n",
       "      <td>-0.597248</td>\n",
       "      <td>0.945382</td>\n",
       "      <td>3</td>\n",
       "      <td>0</td>\n",
       "      <td>1</td>\n",
       "      <td>0</td>\n",
       "      <td>0</td>\n",
       "      <td>0</td>\n",
       "      <td>0</td>\n",
       "      <td>0</td>\n",
       "      <td>...</td>\n",
       "      <td>0</td>\n",
       "      <td>0</td>\n",
       "      <td>0</td>\n",
       "      <td>0</td>\n",
       "      <td>0</td>\n",
       "      <td>0</td>\n",
       "      <td>0</td>\n",
       "      <td>0</td>\n",
       "      <td>1</td>\n",
       "      <td>0</td>\n",
       "    </tr>\n",
       "    <tr>\n",
       "      <th>1684</th>\n",
       "      <td>-0.565345</td>\n",
       "      <td>0.945382</td>\n",
       "      <td>3</td>\n",
       "      <td>0</td>\n",
       "      <td>1</td>\n",
       "      <td>0</td>\n",
       "      <td>0</td>\n",
       "      <td>0</td>\n",
       "      <td>0</td>\n",
       "      <td>0</td>\n",
       "      <td>...</td>\n",
       "      <td>0</td>\n",
       "      <td>0</td>\n",
       "      <td>0</td>\n",
       "      <td>0</td>\n",
       "      <td>0</td>\n",
       "      <td>0</td>\n",
       "      <td>0</td>\n",
       "      <td>0</td>\n",
       "      <td>1</td>\n",
       "      <td>0</td>\n",
       "    </tr>\n",
       "    <tr>\n",
       "      <th>1685</th>\n",
       "      <td>-0.533442</td>\n",
       "      <td>0.945382</td>\n",
       "      <td>3</td>\n",
       "      <td>0</td>\n",
       "      <td>1</td>\n",
       "      <td>0</td>\n",
       "      <td>0</td>\n",
       "      <td>0</td>\n",
       "      <td>0</td>\n",
       "      <td>0</td>\n",
       "      <td>...</td>\n",
       "      <td>0</td>\n",
       "      <td>0</td>\n",
       "      <td>0</td>\n",
       "      <td>0</td>\n",
       "      <td>0</td>\n",
       "      <td>0</td>\n",
       "      <td>0</td>\n",
       "      <td>0</td>\n",
       "      <td>1</td>\n",
       "      <td>0</td>\n",
       "    </tr>\n",
       "  </tbody>\n",
       "</table>\n",
       "<p>1686 rows × 44 columns</p>\n",
       "</div>"
      ],
      "text/plain": [
       "      numTrials      hour  dayofweek  uid_user_0  uid_user_1  uid_user_10  \\\n",
       "0     -0.788667 -2.562352          4           0           0            0   \n",
       "1     -0.756764 -2.562352          4           0           0            0   \n",
       "2     -0.724861 -2.562352          4           0           0            0   \n",
       "3     -0.692958 -2.562352          4           0           0            0   \n",
       "4     -0.661055 -2.562352          4           0           0            0   \n",
       "...         ...       ...        ...         ...         ...          ...   \n",
       "1681  -0.533442  0.945382          3           0           0            0   \n",
       "1682  -0.629151  0.945382          3           0           1            0   \n",
       "1683  -0.597248  0.945382          3           0           1            0   \n",
       "1684  -0.565345  0.945382          3           0           1            0   \n",
       "1685  -0.533442  0.945382          3           0           1            0   \n",
       "\n",
       "      uid_user_11  uid_user_12  uid_user_13  uid_user_14  ...  labname_lab02  \\\n",
       "0               0            0            0            0  ...              0   \n",
       "1               0            0            0            0  ...              0   \n",
       "2               0            0            0            0  ...              0   \n",
       "3               0            0            0            0  ...              0   \n",
       "4               0            0            0            0  ...              0   \n",
       "...           ...          ...          ...          ...  ...            ...   \n",
       "1681            0            0            0            0  ...              0   \n",
       "1682            0            0            0            0  ...              0   \n",
       "1683            0            0            0            0  ...              0   \n",
       "1684            0            0            0            0  ...              0   \n",
       "1685            0            0            0            0  ...              0   \n",
       "\n",
       "      labname_lab03  labname_lab03s  labname_lab05s  labname_laba04  \\\n",
       "0                 0               0               0               0   \n",
       "1                 0               0               0               0   \n",
       "2                 0               0               0               0   \n",
       "3                 0               0               0               0   \n",
       "4                 0               0               0               0   \n",
       "...             ...             ...             ...             ...   \n",
       "1681              0               0               0               0   \n",
       "1682              0               0               0               0   \n",
       "1683              0               0               0               0   \n",
       "1684              0               0               0               0   \n",
       "1685              0               0               0               0   \n",
       "\n",
       "      labname_laba04s  labname_laba05  labname_laba06  labname_laba06s  \\\n",
       "0                   0               0               0                0   \n",
       "1                   0               0               0                0   \n",
       "2                   0               0               0                0   \n",
       "3                   0               0               0                0   \n",
       "4                   0               0               0                0   \n",
       "...               ...             ...             ...              ...   \n",
       "1681                0               0               0                1   \n",
       "1682                0               0               0                1   \n",
       "1683                0               0               0                1   \n",
       "1684                0               0               0                1   \n",
       "1685                0               0               0                1   \n",
       "\n",
       "      labname_project1  \n",
       "0                    1  \n",
       "1                    1  \n",
       "2                    1  \n",
       "3                    1  \n",
       "4                    1  \n",
       "...                ...  \n",
       "1681                 0  \n",
       "1682                 0  \n",
       "1683                 0  \n",
       "1684                 0  \n",
       "1685                 0  \n",
       "\n",
       "[1686 rows x 44 columns]"
      ]
     },
     "execution_count": 2,
     "metadata": {},
     "output_type": "execute_result"
    }
   ],
   "source": [
    "df = pd.read_csv('../data/dayofweek.csv')\n",
    "df"
   ]
  },
  {
   "cell_type": "code",
   "execution_count": 3,
   "metadata": {},
   "outputs": [],
   "source": [
    "X = df.drop('dayofweek', axis=1)\n",
    "y = df.dayofweek"
   ]
  },
  {
   "cell_type": "code",
   "execution_count": 4,
   "metadata": {},
   "outputs": [],
   "source": [
    "X_train, X_test, y_train, y_test = train_test_split(X, y, stratify=y, test_size=0.2, random_state=21)"
   ]
  },
  {
   "cell_type": "markdown",
   "metadata": {},
   "source": [
    "## 2. Logreg regularization"
   ]
  },
  {
   "cell_type": "markdown",
   "metadata": {},
   "source": [
    "### a. Default regularization"
   ]
  },
  {
   "cell_type": "markdown",
   "metadata": {},
   "source": [
    "1. Train a baseline model with the only parameters `random_state=21`, `fit_intercept=False`.\n",
    "2. Use stratified K-fold cross-validation with `10` splits to evaluate the accuracy of the model\n",
    "\n",
    "\n",
    "The result of the code where you trained and evaluated the baseline model should be exactly like this (use `%%time` to get the info about how long it took to run the cell):\n",
    "\n",
    "```\n",
    "train -  0.62902   |   valid -  0.59259\n",
    "train -  0.64633   |   valid -  0.62963\n",
    "train -  0.63479   |   valid -  0.56296\n",
    "train -  0.65622   |   valid -  0.61481\n",
    "train -  0.63397   |   valid -  0.57778\n",
    "train -  0.64056   |   valid -  0.59259\n",
    "train -  0.64138   |   valid -  0.65926\n",
    "train -  0.65952   |   valid -  0.56296\n",
    "train -  0.64333   |   valid -  0.59701\n",
    "train -  0.63674   |   valid -  0.62687\n",
    "Average accuracy on crossval is 0.60165\n",
    "Std is 0.02943\n",
    "```"
   ]
  },
  {
   "cell_type": "code",
   "execution_count": 5,
   "metadata": {},
   "outputs": [],
   "source": [
    "logreg = LogisticRegression(fit_intercept=False, random_state=21)"
   ]
  },
  {
   "cell_type": "code",
   "execution_count": 6,
   "metadata": {},
   "outputs": [
    {
     "name": "stdout",
     "output_type": "stream",
     "text": [
      "train -  0.62902   |   valid -  0.59259\n",
      "train -  0.64633   |   valid -  0.62963\n",
      "train -  0.63479   |   valid -  0.56296\n",
      "train -  0.65622   |   valid -  0.61481\n",
      "train -  0.63397   |   valid -  0.57778\n",
      "train -  0.64056   |   valid -  0.59259\n",
      "train -  0.64138   |   valid -  0.65926\n",
      "train -  0.65952   |   valid -  0.56296\n",
      "train -  0.64333   |   valid -  0.59701\n",
      "train -  0.63674   |   valid -  0.62687\n",
      "Average accuracy on crossval is 0.60165\n",
      "Std is 0.02943\n"
     ]
    }
   ],
   "source": [
    "skf = StratifiedKFold(n_splits=10)\n",
    "accuracy_valid = []\n",
    "for train_index, test_index in skf.split(X_train, y_train):\n",
    "  logreg = logreg.fit(X_train.iloc[train_index], y_train.iloc[train_index])\n",
    "  y_trained = logreg.predict(X_train.iloc[train_index])\n",
    "  y_tested = logreg.predict(X_train.iloc[test_index])\n",
    "  accuracy_score_train = accuracy_score(y_train.iloc[train_index], y_trained)\n",
    "  accuracy_score_test = accuracy_score(y_train.iloc[test_index], y_tested)\n",
    "  accuracy_valid.append(accuracy_score_test)\n",
    "  print(f'train -  {accuracy_score_train:0.5f}   |   valid -  {accuracy_score_test:0.5f}')\n",
    "print(f'Average accuracy on crossval is {np.array(accuracy_valid).mean():0.5f}')\n",
    "print(f'Std is {np.array(accuracy_valid).std():0.5f}')\n"
   ]
  },
  {
   "cell_type": "markdown",
   "metadata": {},
   "source": [
    "### b. Optimizing regularization parameters"
   ]
  },
  {
   "cell_type": "markdown",
   "metadata": {},
   "source": [
    "1. In the cells below try different values of penalty: `none`, `l1`, `l2` – you can change the values of solver too."
   ]
  },
  {
   "cell_type": "code",
   "execution_count": 7,
   "metadata": {},
   "outputs": [
    {
     "name": "stderr",
     "output_type": "stream",
     "text": [
      "/opt/goinfre/einterdi/Piscine_Python_Data_Science/venv/lib/python3.7/site-packages/sklearn/linear_model/_logistic.py:818: ConvergenceWarning: lbfgs failed to converge (status=1):\n",
      "STOP: TOTAL NO. of ITERATIONS REACHED LIMIT.\n",
      "\n",
      "Increase the number of iterations (max_iter) or scale the data as shown in:\n",
      "    https://scikit-learn.org/stable/modules/preprocessing.html\n",
      "Please also refer to the documentation for alternative solver options:\n",
      "    https://scikit-learn.org/stable/modules/linear_model.html#logistic-regression\n",
      "  extra_warning_msg=_LOGISTIC_SOLVER_CONVERGENCE_MSG,\n",
      "/opt/goinfre/einterdi/Piscine_Python_Data_Science/venv/lib/python3.7/site-packages/sklearn/linear_model/_logistic.py:818: ConvergenceWarning: lbfgs failed to converge (status=1):\n",
      "STOP: TOTAL NO. of ITERATIONS REACHED LIMIT.\n",
      "\n",
      "Increase the number of iterations (max_iter) or scale the data as shown in:\n",
      "    https://scikit-learn.org/stable/modules/preprocessing.html\n",
      "Please also refer to the documentation for alternative solver options:\n",
      "    https://scikit-learn.org/stable/modules/linear_model.html#logistic-regression\n",
      "  extra_warning_msg=_LOGISTIC_SOLVER_CONVERGENCE_MSG,\n",
      "/opt/goinfre/einterdi/Piscine_Python_Data_Science/venv/lib/python3.7/site-packages/sklearn/linear_model/_logistic.py:818: ConvergenceWarning: lbfgs failed to converge (status=1):\n",
      "STOP: TOTAL NO. of ITERATIONS REACHED LIMIT.\n",
      "\n",
      "Increase the number of iterations (max_iter) or scale the data as shown in:\n",
      "    https://scikit-learn.org/stable/modules/preprocessing.html\n",
      "Please also refer to the documentation for alternative solver options:\n",
      "    https://scikit-learn.org/stable/modules/linear_model.html#logistic-regression\n",
      "  extra_warning_msg=_LOGISTIC_SOLVER_CONVERGENCE_MSG,\n"
     ]
    },
    {
     "name": "stdout",
     "output_type": "stream",
     "text": [
      "train -  0.66529   |   valid -  0.62963\n",
      "train -  0.65705   |   valid -  0.65926\n",
      "train -  0.66447   |   valid -  0.57778\n"
     ]
    },
    {
     "name": "stderr",
     "output_type": "stream",
     "text": [
      "/opt/goinfre/einterdi/Piscine_Python_Data_Science/venv/lib/python3.7/site-packages/sklearn/linear_model/_logistic.py:818: ConvergenceWarning: lbfgs failed to converge (status=1):\n",
      "STOP: TOTAL NO. of ITERATIONS REACHED LIMIT.\n",
      "\n",
      "Increase the number of iterations (max_iter) or scale the data as shown in:\n",
      "    https://scikit-learn.org/stable/modules/preprocessing.html\n",
      "Please also refer to the documentation for alternative solver options:\n",
      "    https://scikit-learn.org/stable/modules/linear_model.html#logistic-regression\n",
      "  extra_warning_msg=_LOGISTIC_SOLVER_CONVERGENCE_MSG,\n",
      "/opt/goinfre/einterdi/Piscine_Python_Data_Science/venv/lib/python3.7/site-packages/sklearn/linear_model/_logistic.py:818: ConvergenceWarning: lbfgs failed to converge (status=1):\n",
      "STOP: TOTAL NO. of ITERATIONS REACHED LIMIT.\n",
      "\n",
      "Increase the number of iterations (max_iter) or scale the data as shown in:\n",
      "    https://scikit-learn.org/stable/modules/preprocessing.html\n",
      "Please also refer to the documentation for alternative solver options:\n",
      "    https://scikit-learn.org/stable/modules/linear_model.html#logistic-regression\n",
      "  extra_warning_msg=_LOGISTIC_SOLVER_CONVERGENCE_MSG,\n",
      "/opt/goinfre/einterdi/Piscine_Python_Data_Science/venv/lib/python3.7/site-packages/sklearn/linear_model/_logistic.py:818: ConvergenceWarning: lbfgs failed to converge (status=1):\n",
      "STOP: TOTAL NO. of ITERATIONS REACHED LIMIT.\n",
      "\n",
      "Increase the number of iterations (max_iter) or scale the data as shown in:\n",
      "    https://scikit-learn.org/stable/modules/preprocessing.html\n",
      "Please also refer to the documentation for alternative solver options:\n",
      "    https://scikit-learn.org/stable/modules/linear_model.html#logistic-regression\n",
      "  extra_warning_msg=_LOGISTIC_SOLVER_CONVERGENCE_MSG,\n"
     ]
    },
    {
     "name": "stdout",
     "output_type": "stream",
     "text": [
      "train -  0.66529   |   valid -  0.62963\n",
      "train -  0.66694   |   valid -  0.62222\n",
      "train -  0.65952   |   valid -  0.57778\n"
     ]
    },
    {
     "name": "stderr",
     "output_type": "stream",
     "text": [
      "/opt/goinfre/einterdi/Piscine_Python_Data_Science/venv/lib/python3.7/site-packages/sklearn/linear_model/_logistic.py:818: ConvergenceWarning: lbfgs failed to converge (status=1):\n",
      "STOP: TOTAL NO. of ITERATIONS REACHED LIMIT.\n",
      "\n",
      "Increase the number of iterations (max_iter) or scale the data as shown in:\n",
      "    https://scikit-learn.org/stable/modules/preprocessing.html\n",
      "Please also refer to the documentation for alternative solver options:\n",
      "    https://scikit-learn.org/stable/modules/linear_model.html#logistic-regression\n",
      "  extra_warning_msg=_LOGISTIC_SOLVER_CONVERGENCE_MSG,\n",
      "/opt/goinfre/einterdi/Piscine_Python_Data_Science/venv/lib/python3.7/site-packages/sklearn/linear_model/_logistic.py:818: ConvergenceWarning: lbfgs failed to converge (status=1):\n",
      "STOP: TOTAL NO. of ITERATIONS REACHED LIMIT.\n",
      "\n",
      "Increase the number of iterations (max_iter) or scale the data as shown in:\n",
      "    https://scikit-learn.org/stable/modules/preprocessing.html\n",
      "Please also refer to the documentation for alternative solver options:\n",
      "    https://scikit-learn.org/stable/modules/linear_model.html#logistic-regression\n",
      "  extra_warning_msg=_LOGISTIC_SOLVER_CONVERGENCE_MSG,\n",
      "/opt/goinfre/einterdi/Piscine_Python_Data_Science/venv/lib/python3.7/site-packages/sklearn/linear_model/_logistic.py:818: ConvergenceWarning: lbfgs failed to converge (status=1):\n",
      "STOP: TOTAL NO. of ITERATIONS REACHED LIMIT.\n",
      "\n",
      "Increase the number of iterations (max_iter) or scale the data as shown in:\n",
      "    https://scikit-learn.org/stable/modules/preprocessing.html\n",
      "Please also refer to the documentation for alternative solver options:\n",
      "    https://scikit-learn.org/stable/modules/linear_model.html#logistic-regression\n",
      "  extra_warning_msg=_LOGISTIC_SOLVER_CONVERGENCE_MSG,\n"
     ]
    },
    {
     "name": "stdout",
     "output_type": "stream",
     "text": [
      "train -  0.65045   |   valid -  0.69630\n",
      "train -  0.68673   |   valid -  0.61481\n",
      "train -  0.66474   |   valid -  0.62687\n",
      "train -  0.65651   |   valid -  0.61940\n",
      "Average accuracy on crossval is 0.62537\n",
      "Std is 0.03302\n"
     ]
    },
    {
     "name": "stderr",
     "output_type": "stream",
     "text": [
      "/opt/goinfre/einterdi/Piscine_Python_Data_Science/venv/lib/python3.7/site-packages/sklearn/linear_model/_logistic.py:818: ConvergenceWarning: lbfgs failed to converge (status=1):\n",
      "STOP: TOTAL NO. of ITERATIONS REACHED LIMIT.\n",
      "\n",
      "Increase the number of iterations (max_iter) or scale the data as shown in:\n",
      "    https://scikit-learn.org/stable/modules/preprocessing.html\n",
      "Please also refer to the documentation for alternative solver options:\n",
      "    https://scikit-learn.org/stable/modules/linear_model.html#logistic-regression\n",
      "  extra_warning_msg=_LOGISTIC_SOLVER_CONVERGENCE_MSG,\n"
     ]
    }
   ],
   "source": [
    "logreg_none = LogisticRegression(fit_intercept=False, random_state=21, penalty='none')\n",
    "skf = StratifiedKFold(n_splits=10)\n",
    "accuracy_valid = []\n",
    "for train_index, test_index in skf.split(X_train, y_train):\n",
    "  logreg_none = logreg_none.fit(X_train.iloc[train_index], y_train.iloc[train_index])\n",
    "  y_trained = logreg_none.predict(X_train.iloc[train_index])\n",
    "  y_tested = logreg_none.predict(X_train.iloc[test_index])\n",
    "  accuracy_score_train = accuracy_score(y_train.iloc[train_index], y_trained)\n",
    "  accuracy_score_test = accuracy_score(y_train.iloc[test_index], y_tested)\n",
    "  accuracy_valid.append(accuracy_score_test)\n",
    "  print(f'train -  {accuracy_score_train:0.5f}   |   valid -  {accuracy_score_test:0.5f}')\n",
    "print(f'Average accuracy on crossval is {np.array(accuracy_valid).mean():0.5f}')\n",
    "print(f'Std is {np.array(accuracy_valid).std():0.5f}')"
   ]
  },
  {
   "cell_type": "code",
   "execution_count": 8,
   "metadata": {},
   "outputs": [
    {
     "name": "stdout",
     "output_type": "stream",
     "text": [
      "train -  0.62902   |   valid -  0.59259\n",
      "train -  0.64633   |   valid -  0.62963\n",
      "train -  0.63479   |   valid -  0.56296\n",
      "train -  0.65622   |   valid -  0.61481\n",
      "train -  0.63397   |   valid -  0.57778\n",
      "train -  0.64056   |   valid -  0.59259\n",
      "train -  0.64138   |   valid -  0.65926\n",
      "train -  0.65952   |   valid -  0.56296\n",
      "train -  0.64333   |   valid -  0.59701\n",
      "train -  0.63674   |   valid -  0.62687\n",
      "Average accuracy on crossval is 0.60165\n",
      "Std is 0.02943\n"
     ]
    }
   ],
   "source": [
    "logreg2 = LogisticRegression(fit_intercept=False, random_state=21, penalty='l2')\n",
    "skf = StratifiedKFold(n_splits=10)\n",
    "accuracy_valid = []\n",
    "for train_index, test_index in skf.split(X_train, y_train):\n",
    "  logreg2 = logreg2.fit(X_train.iloc[train_index], y_train.iloc[train_index])\n",
    "  y_trained = logreg2.predict(X_train.iloc[train_index])\n",
    "  y_tested = logreg2.predict(X_train.iloc[test_index])\n",
    "  accuracy_score_train = accuracy_score(y_train.iloc[train_index], y_trained)\n",
    "  accuracy_score_test = accuracy_score(y_train.iloc[test_index], y_tested)\n",
    "  accuracy_valid.append(accuracy_score_test)\n",
    "  print(f'train -  {accuracy_score_train:0.5f}   |   valid -  {accuracy_score_test:0.5f}')\n",
    "print(f'Average accuracy on crossval is {np.array(accuracy_valid).mean():0.5f}')\n",
    "print(f'Std is {np.array(accuracy_valid).std():0.5f}')"
   ]
  },
  {
   "cell_type": "code",
   "execution_count": 9,
   "metadata": {},
   "outputs": [
    {
     "ename": "ValueError",
     "evalue": "Solver lbfgs supports only 'l2' or 'none' penalties, got l1 penalty.",
     "output_type": "error",
     "traceback": [
      "\u001b[0;31m---------------------------------------------------------------------------\u001b[0m",
      "\u001b[0;31mValueError\u001b[0m                                Traceback (most recent call last)",
      "\u001b[0;32m/var/folders/zz/zyxvpxvq6csfxvn_n003vrph00yy5m/T/ipykernel_90403/3429919897.py\u001b[0m in \u001b[0;36m<module>\u001b[0;34m\u001b[0m\n\u001b[1;32m      3\u001b[0m \u001b[0maccuracy_valid\u001b[0m \u001b[0;34m=\u001b[0m \u001b[0;34m[\u001b[0m\u001b[0;34m]\u001b[0m\u001b[0;34m\u001b[0m\u001b[0;34m\u001b[0m\u001b[0m\n\u001b[1;32m      4\u001b[0m \u001b[0;32mfor\u001b[0m \u001b[0mtrain_index\u001b[0m\u001b[0;34m,\u001b[0m \u001b[0mtest_index\u001b[0m \u001b[0;32min\u001b[0m \u001b[0mskf\u001b[0m\u001b[0;34m.\u001b[0m\u001b[0msplit\u001b[0m\u001b[0;34m(\u001b[0m\u001b[0mX_train\u001b[0m\u001b[0;34m,\u001b[0m \u001b[0my_train\u001b[0m\u001b[0;34m)\u001b[0m\u001b[0;34m:\u001b[0m\u001b[0;34m\u001b[0m\u001b[0;34m\u001b[0m\u001b[0m\n\u001b[0;32m----> 5\u001b[0;31m   \u001b[0mlogreg1\u001b[0m \u001b[0;34m=\u001b[0m \u001b[0mlogreg1\u001b[0m\u001b[0;34m.\u001b[0m\u001b[0mfit\u001b[0m\u001b[0;34m(\u001b[0m\u001b[0mX_train\u001b[0m\u001b[0;34m.\u001b[0m\u001b[0miloc\u001b[0m\u001b[0;34m[\u001b[0m\u001b[0mtrain_index\u001b[0m\u001b[0;34m]\u001b[0m\u001b[0;34m,\u001b[0m \u001b[0my_train\u001b[0m\u001b[0;34m.\u001b[0m\u001b[0miloc\u001b[0m\u001b[0;34m[\u001b[0m\u001b[0mtrain_index\u001b[0m\u001b[0;34m]\u001b[0m\u001b[0;34m)\u001b[0m\u001b[0;34m\u001b[0m\u001b[0;34m\u001b[0m\u001b[0m\n\u001b[0m\u001b[1;32m      6\u001b[0m   \u001b[0my_trained\u001b[0m \u001b[0;34m=\u001b[0m \u001b[0mlogreg1\u001b[0m\u001b[0;34m.\u001b[0m\u001b[0mpredict\u001b[0m\u001b[0;34m(\u001b[0m\u001b[0mX_train\u001b[0m\u001b[0;34m.\u001b[0m\u001b[0miloc\u001b[0m\u001b[0;34m[\u001b[0m\u001b[0mtrain_index\u001b[0m\u001b[0;34m]\u001b[0m\u001b[0;34m)\u001b[0m\u001b[0;34m\u001b[0m\u001b[0;34m\u001b[0m\u001b[0m\n\u001b[1;32m      7\u001b[0m   \u001b[0my_tested\u001b[0m \u001b[0;34m=\u001b[0m \u001b[0mlogreg1\u001b[0m\u001b[0;34m.\u001b[0m\u001b[0mpredict\u001b[0m\u001b[0;34m(\u001b[0m\u001b[0mX_train\u001b[0m\u001b[0;34m.\u001b[0m\u001b[0miloc\u001b[0m\u001b[0;34m[\u001b[0m\u001b[0mtest_index\u001b[0m\u001b[0;34m]\u001b[0m\u001b[0;34m)\u001b[0m\u001b[0;34m\u001b[0m\u001b[0;34m\u001b[0m\u001b[0m\n",
      "\u001b[0;32m/opt/goinfre/einterdi/Piscine_Python_Data_Science/venv/lib/python3.7/site-packages/sklearn/linear_model/_logistic.py\u001b[0m in \u001b[0;36mfit\u001b[0;34m(self, X, y, sample_weight)\u001b[0m\n\u001b[1;32m   1459\u001b[0m         \u001b[0mThe\u001b[0m \u001b[0mSAGA\u001b[0m \u001b[0msolver\u001b[0m \u001b[0msupports\u001b[0m \u001b[0mboth\u001b[0m \u001b[0mfloat64\u001b[0m \u001b[0;32mand\u001b[0m \u001b[0mfloat32\u001b[0m \u001b[0mbit\u001b[0m \u001b[0marrays\u001b[0m\u001b[0;34m.\u001b[0m\u001b[0;34m\u001b[0m\u001b[0;34m\u001b[0m\u001b[0m\n\u001b[1;32m   1460\u001b[0m         \"\"\"\n\u001b[0;32m-> 1461\u001b[0;31m         \u001b[0msolver\u001b[0m \u001b[0;34m=\u001b[0m \u001b[0m_check_solver\u001b[0m\u001b[0;34m(\u001b[0m\u001b[0mself\u001b[0m\u001b[0;34m.\u001b[0m\u001b[0msolver\u001b[0m\u001b[0;34m,\u001b[0m \u001b[0mself\u001b[0m\u001b[0;34m.\u001b[0m\u001b[0mpenalty\u001b[0m\u001b[0;34m,\u001b[0m \u001b[0mself\u001b[0m\u001b[0;34m.\u001b[0m\u001b[0mdual\u001b[0m\u001b[0;34m)\u001b[0m\u001b[0;34m\u001b[0m\u001b[0;34m\u001b[0m\u001b[0m\n\u001b[0m\u001b[1;32m   1462\u001b[0m \u001b[0;34m\u001b[0m\u001b[0m\n\u001b[1;32m   1463\u001b[0m         \u001b[0;32mif\u001b[0m \u001b[0;32mnot\u001b[0m \u001b[0misinstance\u001b[0m\u001b[0;34m(\u001b[0m\u001b[0mself\u001b[0m\u001b[0;34m.\u001b[0m\u001b[0mC\u001b[0m\u001b[0;34m,\u001b[0m \u001b[0mnumbers\u001b[0m\u001b[0;34m.\u001b[0m\u001b[0mNumber\u001b[0m\u001b[0;34m)\u001b[0m \u001b[0;32mor\u001b[0m \u001b[0mself\u001b[0m\u001b[0;34m.\u001b[0m\u001b[0mC\u001b[0m \u001b[0;34m<\u001b[0m \u001b[0;36m0\u001b[0m\u001b[0;34m:\u001b[0m\u001b[0;34m\u001b[0m\u001b[0;34m\u001b[0m\u001b[0m\n",
      "\u001b[0;32m/opt/goinfre/einterdi/Piscine_Python_Data_Science/venv/lib/python3.7/site-packages/sklearn/linear_model/_logistic.py\u001b[0m in \u001b[0;36m_check_solver\u001b[0;34m(solver, penalty, dual)\u001b[0m\n\u001b[1;32m    447\u001b[0m         raise ValueError(\n\u001b[1;32m    448\u001b[0m             \u001b[0;34m\"Solver %s supports only 'l2' or 'none' penalties, got %s penalty.\"\u001b[0m\u001b[0;34m\u001b[0m\u001b[0;34m\u001b[0m\u001b[0m\n\u001b[0;32m--> 449\u001b[0;31m             \u001b[0;34m%\u001b[0m \u001b[0;34m(\u001b[0m\u001b[0msolver\u001b[0m\u001b[0;34m,\u001b[0m \u001b[0mpenalty\u001b[0m\u001b[0;34m)\u001b[0m\u001b[0;34m\u001b[0m\u001b[0;34m\u001b[0m\u001b[0m\n\u001b[0m\u001b[1;32m    450\u001b[0m         )\n\u001b[1;32m    451\u001b[0m     \u001b[0;32mif\u001b[0m \u001b[0msolver\u001b[0m \u001b[0;34m!=\u001b[0m \u001b[0;34m\"liblinear\"\u001b[0m \u001b[0;32mand\u001b[0m \u001b[0mdual\u001b[0m\u001b[0;34m:\u001b[0m\u001b[0;34m\u001b[0m\u001b[0;34m\u001b[0m\u001b[0m\n",
      "\u001b[0;31mValueError\u001b[0m: Solver lbfgs supports only 'l2' or 'none' penalties, got l1 penalty."
     ]
    }
   ],
   "source": [
    "logreg1 = LogisticRegression(fit_intercept=False, random_state=21, penalty='l1')\n",
    "skf = StratifiedKFold(n_splits=10)\n",
    "accuracy_valid = []\n",
    "for train_index, test_index in skf.split(X_train, y_train):\n",
    "  logreg1 = logreg1.fit(X_train.iloc[train_index], y_train.iloc[train_index])\n",
    "  y_trained = logreg1.predict(X_train.iloc[train_index])\n",
    "  y_tested = logreg1.predict(X_train.iloc[test_index])\n",
    "  accuracy_score_train = accuracy_score(y_train.iloc[train_index], y_trained)\n",
    "  accuracy_score_test = accuracy_score(y_train.iloc[test_index], y_tested)\n",
    "  accuracy_valid.append(accuracy_score_test)\n",
    "  print(f'train -  {accuracy_score_train:0.5f}   |   valid -  {accuracy_score_test:0.5f}')\n",
    "print(f'Average accuracy on crossval is {np.array(accuracy_valid).mean():0.5f}')\n",
    "print(f'Std is {np.array(accuracy_valid).std():0.5f}')"
   ]
  },
  {
   "cell_type": "markdown",
   "metadata": {},
   "source": [
    "## 3. SVM regularization"
   ]
  },
  {
   "cell_type": "markdown",
   "metadata": {},
   "source": [
    "### a. Default regularization"
   ]
  },
  {
   "cell_type": "markdown",
   "metadata": {},
   "source": [
    "1. Train a baseline model with the only parameters `probability=True`, `kernel='linear'`, `random_state=21`.\n",
    "2. Use stratified K-fold cross-validation with `10` splits to evaluate the accuracy of the model.\n",
    "3. The format of the result of the code where you trained and evaluated the baseline model should be similar to what you have got for the logreg."
   ]
  },
  {
   "cell_type": "code",
   "execution_count": null,
   "metadata": {},
   "outputs": [
    {
     "name": "stdout",
     "output_type": "stream",
     "text": [
      "train -  0.59192   |   valid -  0.57037\n",
      "train -  0.58945   |   valid -  0.57037\n",
      "train -  0.57955   |   valid -  0.49630\n",
      "train -  0.61418   |   valid -  0.60741\n",
      "train -  0.58945   |   valid -  0.52593\n",
      "train -  0.58450   |   valid -  0.56296\n",
      "train -  0.58945   |   valid -  0.62963\n",
      "train -  0.61995   |   valid -  0.55556\n",
      "train -  0.61367   |   valid -  0.58955\n",
      "train -  0.61779   |   valid -  0.59701\n",
      "Average accuracy on crossval is 0.57051\n",
      "Std is 0.03701\n"
     ]
    }
   ],
   "source": [
    "clf = OneVsRestClassifier(SVC(kernel='linear', probability=True, random_state=21))\n",
    "skf = StratifiedKFold(n_splits=10)\n",
    "accuracy_valid = []\n",
    "for train_index, test_index in skf.split(X_train, y_train):\n",
    "  clf.fit(X_train.iloc[train_index], y_train.iloc[train_index])\n",
    "  y_trained = clf.predict(X_train.iloc[train_index])\n",
    "  y_tested = clf.predict(X_train.iloc[test_index])\n",
    "  accuracy_score_train = accuracy_score(y_train.iloc[train_index], y_trained)\n",
    "  accuracy_score_test = accuracy_score(y_train.iloc[test_index], y_tested)\n",
    "  accuracy_valid.append(accuracy_score_test)\n",
    "  print(f'train -  {accuracy_score_train:0.5f}   |   valid -  {accuracy_score_test:0.5f}')\n",
    "print(f'Average accuracy on crossval is {np.array(accuracy_valid).mean():0.5f}')\n",
    "print(f'Std is {np.array(accuracy_valid).std():0.5f}')"
   ]
  },
  {
   "cell_type": "markdown",
   "metadata": {},
   "source": [
    "### b. Optimizing regularization parameters"
   ]
  },
  {
   "cell_type": "markdown",
   "metadata": {},
   "source": [
    "1. In the cells below try different values of the parameter `C`."
   ]
  },
  {
   "cell_type": "code",
   "execution_count": null,
   "metadata": {},
   "outputs": [
    {
     "name": "stdout",
     "output_type": "stream",
     "text": [
      "train -  0.60181   |   valid -  0.57778\n",
      "train -  0.60429   |   valid -  0.60000\n",
      "train -  0.58450   |   valid -  0.50370\n",
      "train -  0.60923   |   valid -  0.61481\n",
      "train -  0.58615   |   valid -  0.53333\n",
      "train -  0.59439   |   valid -  0.54815\n",
      "train -  0.58697   |   valid -  0.62963\n",
      "train -  0.61913   |   valid -  0.57037\n",
      "train -  0.61532   |   valid -  0.59701\n",
      "train -  0.60791   |   valid -  0.59701\n",
      "Average accuracy on crossval is 0.57718\n",
      "Std is 0.03699\n"
     ]
    }
   ],
   "source": [
    "clf = OneVsRestClassifier(SVC(kernel='linear', probability=True, random_state=21, C=4))\n",
    "skf = StratifiedKFold(n_splits=10)\n",
    "accuracy_valid = []\n",
    "for train_index, test_index in skf.split(X_train, y_train):\n",
    "  clf.fit(X_train.iloc[train_index], y_train.iloc[train_index])\n",
    "  y_trained = clf.predict(X_train.iloc[train_index])\n",
    "  y_tested = clf.predict(X_train.iloc[test_index])\n",
    "  accuracy_score_train = accuracy_score(y_train.iloc[train_index], y_trained)\n",
    "  accuracy_score_test = accuracy_score(y_train.iloc[test_index], y_tested)\n",
    "  accuracy_valid.append(accuracy_score_test)\n",
    "  print(f'train -  {accuracy_score_train:0.5f}   |   valid -  {accuracy_score_test:0.5f}')\n",
    "print(f'Average accuracy on crossval is {np.array(accuracy_valid).mean():0.5f}')\n",
    "print(f'Std is {np.array(accuracy_valid).std():0.5f}')"
   ]
  },
  {
   "cell_type": "code",
   "execution_count": null,
   "metadata": {},
   "outputs": [
    {
     "name": "stdout",
     "output_type": "stream",
     "text": [
      "train -  0.58862   |   valid -  0.58519\n",
      "train -  0.60758   |   valid -  0.60000\n",
      "train -  0.58368   |   valid -  0.46667\n",
      "train -  0.61500   |   valid -  0.59259\n",
      "train -  0.58862   |   valid -  0.56296\n",
      "train -  0.60841   |   valid -  0.55556\n",
      "train -  0.58285   |   valid -  0.62963\n",
      "train -  0.60758   |   valid -  0.55556\n",
      "train -  0.62026   |   valid -  0.59701\n",
      "train -  0.58814   |   valid -  0.56716\n",
      "Average accuracy on crossval is 0.57123\n",
      "Std is 0.04131\n"
     ]
    }
   ],
   "source": [
    "clf = OneVsRestClassifier(SVC(kernel='linear', probability=True, random_state=21, C=40))\n",
    "skf = StratifiedKFold(n_splits=10)\n",
    "accuracy_valid = []\n",
    "for train_index, test_index in skf.split(X_train, y_train):\n",
    "  clf.fit(X_train.iloc[train_index], y_train.iloc[train_index])\n",
    "  y_trained = clf.predict(X_train.iloc[train_index])\n",
    "  y_tested = clf.predict(X_train.iloc[test_index])\n",
    "  accuracy_score_train = accuracy_score(y_train.iloc[train_index], y_trained)\n",
    "  accuracy_score_test = accuracy_score(y_train.iloc[test_index], y_tested)\n",
    "  accuracy_valid.append(accuracy_score_test)\n",
    "  print(f'train -  {accuracy_score_train:0.5f}   |   valid -  {accuracy_score_test:0.5f}')\n",
    "print(f'Average accuracy on crossval is {np.array(accuracy_valid).mean():0.5f}')\n",
    "print(f'Std is {np.array(accuracy_valid).std():0.5f}')"
   ]
  },
  {
   "cell_type": "code",
   "execution_count": null,
   "metadata": {},
   "outputs": [
    {
     "name": "stdout",
     "output_type": "stream",
     "text": [
      "train -  0.60429   |   valid -  0.58519\n",
      "train -  0.58780   |   valid -  0.57037\n",
      "train -  0.60264   |   valid -  0.51111\n",
      "train -  0.58368   |   valid -  0.60000\n",
      "train -  0.60511   |   valid -  0.56296\n",
      "train -  0.63397   |   valid -  0.56296\n",
      "train -  0.59439   |   valid -  0.63704\n",
      "train -  0.59439   |   valid -  0.57778\n",
      "train -  0.62356   |   valid -  0.61194\n",
      "train -  0.60214   |   valid -  0.57463\n",
      "Average accuracy on crossval is 0.57940\n",
      "Std is 0.03186\n"
     ]
    }
   ],
   "source": [
    "clf = OneVsRestClassifier(SVC(kernel='linear', probability=True, random_state=21, C=100))\n",
    "skf = StratifiedKFold(n_splits=10)\n",
    "accuracy_valid = []\n",
    "for train_index, test_index in skf.split(X_train, y_train):\n",
    "  clf.fit(X_train.iloc[train_index], y_train.iloc[train_index])\n",
    "  y_trained = clf.predict(X_train.iloc[train_index])\n",
    "  y_tested = clf.predict(X_train.iloc[test_index])\n",
    "  accuracy_score_train = accuracy_score(y_train.iloc[train_index], y_trained)\n",
    "  accuracy_score_test = accuracy_score(y_train.iloc[test_index], y_tested)\n",
    "  accuracy_valid.append(accuracy_score_test)\n",
    "  print(f'train -  {accuracy_score_train:0.5f}   |   valid -  {accuracy_score_test:0.5f}')\n",
    "print(f'Average accuracy on crossval is {np.array(accuracy_valid).mean():0.5f}')\n",
    "print(f'Std is {np.array(accuracy_valid).std():0.5f}')"
   ]
  },
  {
   "cell_type": "markdown",
   "metadata": {},
   "source": [
    "## 4. Tree"
   ]
  },
  {
   "cell_type": "markdown",
   "metadata": {},
   "source": [
    "### a. Default regularization"
   ]
  },
  {
   "cell_type": "markdown",
   "metadata": {},
   "source": [
    "1. Train a baseline model with the only parameter `max_depth=10` and `random_state=21`.\n",
    "2. Use stratified K-fold cross-validation with `10` splits to evaluate the accuracy of the model.\n",
    "3. The format of the result of the code where you trained and evaluated the baseline model should be similar to what you have got for the logreg."
   ]
  },
  {
   "cell_type": "code",
   "execution_count": null,
   "metadata": {},
   "outputs": [
    {
     "name": "stdout",
     "output_type": "stream",
     "text": [
      "train -  1.00000   |   valid -  0.85926\n",
      "train -  1.00000   |   valid -  0.91852\n",
      "train -  0.99918   |   valid -  0.86667\n",
      "train -  1.00000   |   valid -  0.91111\n",
      "train -  0.99918   |   valid -  0.88889\n",
      "train -  0.99835   |   valid -  0.85185\n",
      "train -  1.00000   |   valid -  0.92593\n",
      "train -  1.00000   |   valid -  0.88148\n",
      "train -  1.00000   |   valid -  0.88060\n",
      "train -  1.00000   |   valid -  0.88060\n",
      "Average accuracy on crossval is 0.88649\n",
      "Std is 0.02371\n"
     ]
    },
    {
     "data": {
      "text/plain": [
       "{'max_depth': 25}"
      ]
     },
     "execution_count": 33,
     "metadata": {},
     "output_type": "execute_result"
    }
   ],
   "source": [
    "parameters = {\n",
    "    'max_depth': [1, 5, 10, 15, 25, 30]\n",
    "}\n",
    "tD = tree.DecisionTreeClassifier(random_state=21)\n",
    "clf = GridSearchCV(tD, parameters)\n",
    "skf = StratifiedKFold(n_splits=10)\n",
    "accuracy_valid = []\n",
    "for train_index, test_index in skf.split(X_train, y_train):\n",
    "  clf.fit(X_train.iloc[train_index], y_train.iloc[train_index])\n",
    "  y_trained = clf.predict(X_train.iloc[train_index])\n",
    "  y_tested = clf.predict(X_train.iloc[test_index])\n",
    "  accuracy_score_train = accuracy_score(y_train.iloc[train_index], y_trained)\n",
    "  accuracy_score_test = accuracy_score(y_train.iloc[test_index], y_tested)\n",
    "  accuracy_valid.append(accuracy_score_test)\n",
    "  print(f'train -  {accuracy_score_train:0.5f}   |   valid -  {accuracy_score_test:0.5f}')\n",
    "print(f'Average accuracy on crossval is {np.array(accuracy_valid).mean():0.5f}')\n",
    "print(f'Std is {np.array(accuracy_valid).std():0.5f}')\n",
    "clf.best_params_"
   ]
  },
  {
   "cell_type": "markdown",
   "metadata": {},
   "source": [
    "### b. Optimizing regularization parameters"
   ]
  },
  {
   "cell_type": "markdown",
   "metadata": {},
   "source": [
    "1. In the cells below try different values of the parameter `max_depth`.\n",
    "2. As a bonus, play with other regularization parameters trying to find the best combination."
   ]
  },
  {
   "cell_type": "markdown",
   "metadata": {},
   "source": [
    "## 5. Random forest"
   ]
  },
  {
   "cell_type": "markdown",
   "metadata": {},
   "source": [
    "### a. Default regularization"
   ]
  },
  {
   "cell_type": "markdown",
   "metadata": {},
   "source": [
    "1. Train a baseline model with the only parameters `n_estimators=50`, `max_depth=14`, `random_state=21`.\n",
    "2. Use stratified K-fold cross-validation with `10` splits to evaluate the accuracy of the model.\n",
    "3. The format of the result of the code where you trained and evaluated the baseline model should be similar to what you have got for the logreg."
   ]
  },
  {
   "cell_type": "code",
   "execution_count": null,
   "metadata": {},
   "outputs": [
    {
     "name": "stdout",
     "output_type": "stream",
     "text": [
      "train -  1.00000   |   valid -  0.90370\n",
      "train -  1.00000   |   valid -  0.95556\n",
      "train -  0.99918   |   valid -  0.89630\n",
      "train -  1.00000   |   valid -  0.93333\n",
      "train -  0.99835   |   valid -  0.92593\n",
      "train -  0.99918   |   valid -  0.89630\n",
      "train -  1.00000   |   valid -  0.92593\n",
      "train -  1.00000   |   valid -  0.90370\n",
      "train -  1.00000   |   valid -  0.92537\n",
      "train -  0.99918   |   valid -  0.88806\n",
      "Average accuracy on crossval is 0.91542\n",
      "Std is 0.02002\n"
     ]
    },
    {
     "data": {
      "text/plain": [
       "{'max_depth': 30, 'n_estimators': 50}"
      ]
     },
     "execution_count": 35,
     "metadata": {},
     "output_type": "execute_result"
    }
   ],
   "source": [
    "X = df.drop('dayofweek', axis=1)\n",
    "y = df.dayofweek\n",
    "\n",
    "parameters = {\n",
    "    'n_estimators': [10, 50, 100, 150],\n",
    "    'max_depth': [1, 5, 10, 14, 25, 30]\n",
    "}\n",
    "random_forest_model = RandomForestClassifier(random_state=21)\n",
    "clf = GridSearchCV(random_forest_model, parameters, scoring='accuracy', n_jobs=-1)\n",
    "skf = StratifiedKFold(n_splits=10)\n",
    "accuracy_valid = []\n",
    "for train_index, test_index in skf.split(X_train, y_train):\n",
    "  clf.fit(X_train.iloc[train_index], y_train.iloc[train_index])\n",
    "  y_trained = clf.predict(X_train.iloc[train_index])\n",
    "  y_tested = clf.predict(X_train.iloc[test_index])\n",
    "  accuracy_score_train = accuracy_score(y_train.iloc[train_index], y_trained)\n",
    "  accuracy_score_test = accuracy_score(y_train.iloc[test_index], y_tested)\n",
    "  accuracy_valid.append(accuracy_score_test)\n",
    "  print(f'train -  {accuracy_score_train:0.5f}   |   valid -  {accuracy_score_test:0.5f}')\n",
    "print(f'Average accuracy on crossval is {np.array(accuracy_valid).mean():0.5f}')\n",
    "print(f'Std is {np.array(accuracy_valid).std():0.5f}')\n",
    "clf.best_params_"
   ]
  },
  {
   "cell_type": "markdown",
   "metadata": {},
   "source": [
    "### b. Optimizing regularization parameters"
   ]
  },
  {
   "cell_type": "markdown",
   "metadata": {},
   "source": [
    "1. In the new cells try different values of the parameters `max_depth` and `n_estimators`.\n",
    "2. As a bonus, play with other regularization parameters trying to find the best combination."
   ]
  },
  {
   "cell_type": "markdown",
   "metadata": {},
   "source": [
    "## 6. Predictions"
   ]
  },
  {
   "cell_type": "markdown",
   "metadata": {},
   "source": [
    "1. Choose the best model and use it to make predictions for the test dataset.\n",
    "2. Calculate the final accuracy.\n",
    "3. Analyze: for which weekday your model makes the most errors (in % of the total number of samples of that class in your test dataset).\n",
    "4. Save the model."
   ]
  },
  {
   "cell_type": "markdown",
   "metadata": {},
   "source": [
    "As we saw above, the best results come from random forest model<br>\n",
    "Parameters: n_estimators=50, max_depth=30"
   ]
  },
  {
   "cell_type": "code",
   "execution_count": null,
   "metadata": {},
   "outputs": [
    {
     "data": {
      "text/plain": [
       "0.9289940828402367"
      ]
     },
     "execution_count": 41,
     "metadata": {},
     "output_type": "execute_result"
    }
   ],
   "source": [
    "random_forest_model = RandomForestClassifier(random_state=21, n_estimators=50, max_depth=30)\n",
    "random_forest_model.fit(X_train, y_train)\n",
    "y_after_test = random_forest_model.predict(X_test)\n",
    "accuracy_score(y_test, y_after_test)"
   ]
  },
  {
   "cell_type": "code",
   "execution_count": null,
   "metadata": {},
   "outputs": [
    {
     "data": {
      "text/plain": [
       "array([1, 5, 6, 3, 2, 1, 5, 5, 6, 6, 5, 6, 3, 0, 3, 3, 5, 3, 3, 6, 3, 4,\n",
       "       3, 3, 6, 1, 5, 3, 1, 6, 6, 5, 6, 6, 3, 5, 6, 0, 1, 6, 6, 5, 5, 1,\n",
       "       6, 1, 6, 3, 2, 1, 1, 5, 5, 4, 6, 6, 1, 6, 0, 3, 1, 3, 1, 1, 4, 4,\n",
       "       2, 0, 3, 6, 5, 6, 5, 2, 5, 5, 4, 0, 5, 6, 1, 0, 1, 3, 6, 5, 5, 6,\n",
       "       5, 3, 6, 3, 4, 1, 3, 6, 3, 6, 4, 3, 3, 0, 2, 1, 6, 0, 0, 4, 3, 3,\n",
       "       4, 1, 5, 0, 6, 5, 5, 1, 5, 3, 6, 3, 3, 0, 0, 6, 4, 6, 5, 6, 3, 5,\n",
       "       6, 3, 2, 6, 5, 6, 5, 4, 6, 1, 6, 6, 5, 3, 1, 1, 3, 1, 1, 3, 1, 0,\n",
       "       3, 3, 5, 6, 2, 5, 0, 6, 2, 3, 5, 3, 3, 0, 3, 3, 3, 6, 3, 5, 0, 3,\n",
       "       5, 3, 3, 5, 3, 1, 5, 2, 3, 0, 3, 1, 2, 3, 0, 2, 6, 6, 5, 5, 2, 2,\n",
       "       1, 6, 6, 5, 5, 6, 3, 6, 2, 5, 2, 6, 1, 3, 1, 5, 4, 4, 1, 3, 5, 3,\n",
       "       2, 5, 1, 0, 3, 3, 1, 3, 1, 6, 6, 6, 6, 4, 6, 2, 1, 4, 6, 0, 1, 3,\n",
       "       5, 6, 6, 3, 5, 2, 5, 6, 3, 2, 3, 4, 5, 6, 3, 6, 3, 1, 1, 3, 1, 5,\n",
       "       6, 6, 6, 4, 3, 3, 2, 3, 6, 3, 1, 6, 1, 3, 3, 3, 5, 3, 0, 3, 2, 6,\n",
       "       2, 6, 6, 1, 5, 4, 3, 6, 0, 3, 6, 1, 3, 2, 6, 6, 6, 5, 2, 1, 6, 4,\n",
       "       1, 3, 0, 5, 6, 4, 1, 3, 3, 3, 3, 2, 5, 3, 1, 5, 1, 2, 3, 5, 3, 3,\n",
       "       6, 3, 5, 3, 1, 2, 1, 2])"
      ]
     },
     "execution_count": 44,
     "metadata": {},
     "output_type": "execute_result"
    }
   ],
   "source": [
    "# y_after_test"
   ]
  },
  {
   "cell_type": "code",
   "execution_count": null,
   "metadata": {},
   "outputs": [
    {
     "name": "stdout",
     "output_type": "stream",
     "text": [
      "0.0 1 1\n",
      "0.0 5 5\n",
      "0.0 6 6\n",
      "0.0 3 3\n",
      "0.0 2 2\n",
      "0.0 1 1\n",
      "0.0 5 5\n",
      "0.0 5 5\n",
      "0.0 6 6\n",
      "0.0 6 6\n",
      "0.0 5 5\n",
      "0.0 6 6\n",
      "0.0 3 3\n",
      "0.0029585798816568047 0 1\n",
      "0.0 3 3\n",
      "0.0 3 3\n",
      "0.0 5 5\n",
      "0.0 3 3\n",
      "0.0 3 3\n",
      "0.0 6 6\n",
      "0.0 3 3\n",
      "0.0 4 4\n",
      "0.0 3 3\n",
      "0.0 3 3\n",
      "0.0 6 6\n",
      "0.0 1 1\n",
      "0.0 5 5\n",
      "0.0 3 3\n",
      "0.0 1 1\n",
      "0.0029585798816568047 6 5\n",
      "0.0 6 6\n",
      "0.0029585798816568047 5 4\n",
      "0.0 6 6\n",
      "0.0 6 6\n",
      "0.0 3 3\n",
      "0.0 5 5\n",
      "0.0 6 6\n",
      "0.026627218934911243 0 3\n",
      "0.0 1 1\n",
      "0.0 6 6\n",
      "0.0 6 6\n",
      "0.0 5 5\n",
      "0.0 5 5\n",
      "0.0 1 1\n",
      "0.10650887573964497 6 0\n",
      "0.0 1 1\n",
      "0.0 6 6\n",
      "0.0 3 3\n",
      "0.0 2 2\n",
      "0.0 1 1\n",
      "0.0 1 1\n",
      "0.0 5 5\n",
      "0.0 5 5\n",
      "0.0 4 4\n",
      "0.0 6 6\n",
      "0.0 6 6\n",
      "0.0 1 1\n",
      "0.0 6 6\n",
      "0.0 0 0\n",
      "0.0 3 3\n",
      "0.0 1 1\n",
      "0.0 3 3\n",
      "0.0 1 1\n",
      "0.0 1 1\n",
      "0.047337278106508875 4 0\n",
      "0.0 4 4\n",
      "0.0 2 2\n",
      "0.0 0 0\n",
      "0.0 3 3\n",
      "0.0 6 6\n",
      "0.0 5 5\n",
      "0.0 6 6\n",
      "0.0 5 5\n",
      "0.0 2 2\n",
      "0.0 5 5\n",
      "0.0 5 5\n",
      "0.0 4 4\n",
      "0.0 0 0\n",
      "0.0 5 5\n",
      "0.0 6 6\n",
      "0.0 1 1\n",
      "0.0029585798816568047 0 1\n",
      "0.0 1 1\n",
      "0.0 3 3\n",
      "0.0 6 6\n",
      "0.047337278106508875 5 1\n",
      "0.0 5 5\n",
      "0.0 6 6\n",
      "0.0 5 5\n",
      "0.0 3 3\n",
      "0.0 6 6\n",
      "0.0 3 3\n",
      "0.0 4 4\n",
      "0.0 1 1\n",
      "0.0 3 3\n",
      "0.0 6 6\n",
      "0.0 3 3\n",
      "0.0 6 6\n",
      "0.0 4 4\n",
      "0.0 3 3\n",
      "0.0 3 3\n",
      "0.0 0 0\n",
      "0.0 2 2\n",
      "0.0 1 1\n",
      "0.0 6 6\n",
      "0.0 0 0\n",
      "0.0 0 0\n",
      "0.0 4 4\n",
      "0.0 3 3\n",
      "0.0 3 3\n",
      "0.0029585798816568047 4 5\n",
      "0.0 1 1\n",
      "0.011834319526627219 5 3\n",
      "0.0 0 0\n",
      "0.0 6 6\n",
      "0.0 5 5\n",
      "0.0 5 5\n",
      "0.0 1 1\n",
      "0.0 5 5\n",
      "0.0 3 3\n",
      "0.0 6 6\n",
      "0.0 3 3\n",
      "0.0 3 3\n",
      "0.0 0 0\n",
      "0.0 0 0\n",
      "0.0 6 6\n",
      "0.0 4 4\n",
      "0.0 6 6\n",
      "0.0 5 5\n",
      "0.0 6 6\n",
      "0.0 3 3\n",
      "0.0 5 5\n",
      "0.0 6 6\n",
      "0.0 3 3\n",
      "0.0 2 2\n",
      "0.0 6 6\n",
      "0.0029585798816568047 5 4\n",
      "0.0 6 6\n",
      "0.0 5 5\n",
      "0.0 4 4\n",
      "0.0 6 6\n",
      "0.0 1 1\n",
      "0.0 6 6\n",
      "0.0 6 6\n",
      "0.0 5 5\n",
      "0.0 3 3\n",
      "0.0 1 1\n",
      "0.0 1 1\n",
      "0.0 3 3\n",
      "0.0 1 1\n",
      "0.0 1 1\n",
      "0.0 3 3\n",
      "0.0 1 1\n",
      "0.0 0 0\n",
      "0.0 3 3\n",
      "0.0 3 3\n",
      "0.0 5 5\n",
      "0.0 6 6\n",
      "0.0 2 2\n",
      "0.0 5 5\n",
      "0.0 0 0\n",
      "0.0 6 6\n",
      "0.0 2 2\n",
      "0.0 3 3\n",
      "0.0 5 5\n",
      "0.0029585798816568047 3 2\n",
      "0.0 3 3\n",
      "0.0 0 0\n",
      "0.0 3 3\n",
      "0.0 3 3\n",
      "0.0 3 3\n",
      "0.0 6 6\n",
      "0.011834319526627219 3 5\n",
      "0.0 5 5\n",
      "0.0 0 0\n",
      "0.0 3 3\n",
      "0.0 5 5\n",
      "0.0 3 3\n",
      "0.0 3 3\n",
      "0.0 5 5\n",
      "0.0 3 3\n",
      "0.0 1 1\n",
      "0.0 5 5\n",
      "0.0 2 2\n",
      "0.0 3 3\n",
      "0.0 0 0\n",
      "0.0029585798816568047 3 2\n",
      "0.0 1 1\n",
      "0.0 2 2\n",
      "0.0 3 3\n",
      "0.0 0 0\n",
      "0.0 2 2\n",
      "0.10650887573964497 6 0\n",
      "0.0 6 6\n",
      "0.0 5 5\n",
      "0.0 5 5\n",
      "0.0 2 2\n",
      "0.0 2 2\n",
      "0.0 1 1\n",
      "0.0 6 6\n",
      "0.0 6 6\n",
      "0.0 5 5\n",
      "0.0 5 5\n",
      "0.0 6 6\n",
      "0.0 3 3\n",
      "0.0 6 6\n",
      "0.0 2 2\n",
      "0.0 5 5\n",
      "0.0 2 2\n",
      "0.0 6 6\n",
      "0.0 1 1\n",
      "0.0 3 3\n",
      "0.0 1 1\n",
      "0.0 5 5\n",
      "0.0 4 4\n",
      "0.0 4 4\n",
      "0.0 1 1\n",
      "0.0 3 3\n",
      "0.0 5 5\n",
      "0.0 3 3\n",
      "0.0 2 2\n",
      "0.0 5 5\n",
      "0.0 1 1\n",
      "0.0 0 0\n",
      "0.0 3 3\n",
      "0.0 3 3\n",
      "0.0 1 1\n",
      "0.011834319526627219 3 1\n",
      "0.0 1 1\n",
      "0.0 6 6\n",
      "0.0 6 6\n",
      "0.10650887573964497 6 0\n",
      "0.0 6 6\n",
      "0.0 4 4\n",
      "0.0 6 6\n",
      "0.0 2 2\n",
      "0.0 1 1\n",
      "0.0 4 4\n",
      "0.0 6 6\n",
      "0.0 0 0\n",
      "0.0 1 1\n",
      "0.0 3 3\n",
      "0.0 5 5\n",
      "0.0 6 6\n",
      "0.0 6 6\n",
      "0.0 3 3\n",
      "0.0 5 5\n",
      "0.0 2 2\n",
      "0.07396449704142012 5 0\n",
      "0.0 6 6\n",
      "0.0 3 3\n",
      "0.0 2 2\n",
      "0.0 3 3\n",
      "0.0 4 4\n",
      "0.0 5 5\n",
      "0.10650887573964497 6 0\n",
      "0.0 3 3\n",
      "0.0 6 6\n",
      "0.026627218934911243 3 0\n",
      "0.0 1 1\n",
      "0.0 1 1\n",
      "0.0 3 3\n",
      "0.0 1 1\n",
      "0.0 5 5\n",
      "0.0 6 6\n",
      "0.0 6 6\n",
      "0.0 6 6\n",
      "0.0 4 4\n",
      "0.0 3 3\n",
      "0.0 3 3\n",
      "0.0 2 2\n",
      "0.0 3 3\n",
      "0.0 6 6\n",
      "0.0 3 3\n",
      "0.0 1 1\n",
      "0.0 6 6\n",
      "0.0 1 1\n",
      "0.0 3 3\n",
      "0.0 3 3\n",
      "0.011834319526627219 3 5\n",
      "0.0029585798816568047 5 6\n",
      "0.011834319526627219 3 1\n",
      "0.0 0 0\n",
      "0.0 3 3\n",
      "0.0 2 2\n",
      "0.0 6 6\n",
      "0.0 2 2\n",
      "0.0 6 6\n",
      "0.0 6 6\n",
      "0.0 1 1\n",
      "0.0 5 5\n",
      "0.0 4 4\n",
      "0.0 3 3\n",
      "0.0 6 6\n",
      "0.0 0 0\n",
      "0.0 3 3\n",
      "0.0 6 6\n",
      "0.0 1 1\n",
      "0.0 3 3\n",
      "0.0 2 2\n",
      "0.0 6 6\n",
      "0.0 6 6\n",
      "0.0 6 6\n",
      "0.0029585798816568047 5 4\n",
      "0.0 2 2\n",
      "0.0 1 1\n",
      "0.0 6 6\n",
      "0.0 4 4\n",
      "0.0 1 1\n",
      "0.0 3 3\n",
      "0.0 0 0\n",
      "0.0 5 5\n",
      "0.0 6 6\n",
      "0.0 4 4\n",
      "0.0 1 1\n",
      "0.0 3 3\n",
      "0.0 3 3\n",
      "0.0 3 3\n",
      "0.0 3 3\n",
      "0.0 2 2\n",
      "0.0 5 5\n",
      "0.0 3 3\n",
      "0.0 1 1\n",
      "0.0 5 5\n",
      "0.0 1 1\n",
      "0.0 2 2\n",
      "0.0 3 3\n",
      "0.0 5 5\n",
      "0.0 3 3\n",
      "0.0 3 3\n",
      "0.0 6 6\n",
      "0.0 3 3\n",
      "0.0 5 5\n",
      "0.0 3 3\n",
      "0.0 1 1\n",
      "0.0 2 2\n",
      "0.0 1 1\n",
      "0.0 2 2\n",
      "max error: 0.10650887573964497\n",
      "Max err is for 0 day\n"
     ]
    }
   ],
   "source": [
    "# from sklearn.metrics import mean_squared_error\n",
    "# error = []\n",
    "# for i in range(len(list(y_test))):\n",
    "#     err = (y_after_test[i] - list(y_test)[i]) ** 2\n",
    "#     err_param = err / len(list(y_test))\n",
    "#     error.append(err_param)\n",
    "#     print(err_param, y_after_test[i], list(y_test)[i])\n",
    "# max_error = max(error)\n",
    "# print(f'max error: {max_error}')\n",
    "# for i in range(len(list(y_test))):\n",
    "#     err = (y_after_test[i] - list(y_test)[i]) ** 2\n",
    "#     err_param = err / len(list(y_test))\n",
    "#     if err_param == max_error:\n",
    "#         print(f'Max err is for {list(y_test)[i]} day')\n",
    "#         break"
   ]
  },
  {
   "cell_type": "code",
   "execution_count": null,
   "metadata": {},
   "outputs": [],
   "source": [
    "from sklearn.metrics import confusion_matrix, ConfusionMatrixDisplay\n",
    "import matplotlib.pyplot as plt"
   ]
  },
  {
   "cell_type": "code",
   "execution_count": null,
   "metadata": {},
   "outputs": [
    {
     "data": {
      "image/png": "[encoded data removed]",
      "text/plain": [
       "<Figure size 432x288 with 2 Axes>"
      ]
     },
     "metadata": {
      "needs_background": "light"
     },
     "output_type": "display_data"
    }
   ],
   "source": [
    "cm = confusion_matrix(y_test, y_after_test, labels=random_forest_model.classes_)\n",
    "disp = ConfusionMatrixDisplay(confusion_matrix=cm,\n",
    "                             display_labels=random_forest_model.classes_)\n",
    "disp.plot()\n",
    "plt.show()"
   ]
  },
  {
   "cell_type": "code",
   "execution_count": null,
   "metadata": {},
   "outputs": [],
   "source": [
    "import pickle\n",
    "filename = 'model_random_tree.sav'\n",
    "pickle.dump(random_forest_model, open(filename, 'wb'))"
   ]
  }
 ],
 "metadata": {
  "interpreter": {
   "hash": "084c2177a1bafd335d0d21cc69b2e2a4dfa0e714de70b55da0b3d79e8ec53de4"
  },
  "kernelspec": {
   "display_name": "Python 3.7.9 ('venv': venv)",
   "language": "python",
   "name": "python3"
  },
  "language_info": {
   "codemirror_mode": {
    "name": "ipython",
    "version": 3
   },
   "file_extension": ".py",
   "mimetype": "text/x-python",
   "name": "python",
   "nbconvert_exporter": "python",
   "pygments_lexer": "ipython3",
   "version": "3.7.9"
  }
 },
 "nbformat": 4,
 "nbformat_minor": 4
}
