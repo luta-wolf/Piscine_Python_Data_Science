{
 "cells": [
  {
   "cell_type": "markdown",
   "metadata": {},
   "source": [
    "# Exercise 05 : Pandas optimizations"
   ]
  },
  {
   "cell_type": "code",
   "execution_count": 32,
   "metadata": {},
   "outputs": [],
   "source": [
    "import pandas as pd\n",
    "import gc"
   ]
  },
  {
   "cell_type": "markdown",
   "metadata": {},
   "source": [
    "## read the fines.csv that you saved in the previous exercise"
   ]
  },
  {
   "cell_type": "code",
   "execution_count": 33,
   "metadata": {},
   "outputs": [],
   "source": [
    "df = pd.read_csv('../data/fines.csv')"
   ]
  },
  {
   "cell_type": "markdown",
   "metadata": {},
   "source": [
    "## iterations: in all the following subtasks, you need to calculate fines/refund*year for<br>each row and create a new column with the calculated data and measure the time<br>using the magic command %%timeit in the cell"
   ]
  },
  {
   "cell_type": "markdown",
   "metadata": {},
   "source": [
    "- loop: write a function that iterates through the dataframe using for i in<br>range(0, len(df)), iloc and append() to a list, assign the result of the function to a new column in the dataframe"
   ]
  },
  {
   "cell_type": "code",
   "execution_count": 34,
   "metadata": {},
   "outputs": [
    {
     "name": "stdout",
     "output_type": "stream",
     "text": [
      "293 ms ± 3.84 ms per loop (mean ± std. dev. of 7 runs, 1 loop each)\n"
     ]
    }
   ],
   "source": [
    "%%timeit\n",
    "new_col = []\n",
    "for i in range(len(df)):\n",
    "    new_col.append(df.iloc[i]['Fines'] / (df.iloc[i]['Refund'] * df.iloc[i]['Year']))\n",
    "df['calculate_column'] = new_col"
   ]
  },
  {
   "cell_type": "code",
   "execution_count": 35,
   "metadata": {},
   "outputs": [
    {
     "data": {
      "text/plain": [
       "0     0.80\n",
       "1     3.26\n",
       "2     1.06\n",
       "3     0.50\n",
       "4     2.83\n",
       "      ... \n",
       "925   0.25\n",
       "926   3.77\n",
       "927   0.25\n",
       "928   2.17\n",
       "929   0.50\n",
       "Name: calculate_column, Length: 930, dtype: float64"
      ]
     },
     "execution_count": 35,
     "metadata": {},
     "output_type": "execute_result"
    }
   ],
   "source": [
    "df['calculate_column']"
   ]
  },
  {
   "cell_type": "markdown",
   "metadata": {},
   "source": [
    "- do it using iterrows()"
   ]
  },
  {
   "cell_type": "code",
   "execution_count": 36,
   "metadata": {},
   "outputs": [
    {
     "name": "stdout",
     "output_type": "stream",
     "text": [
      "CPU times: user 47.1 ms, sys: 1.31 ms, total: 48.4 ms\n",
      "Wall time: 47.8 ms\n"
     ]
    }
   ],
   "source": [
    "%%time\n",
    "new_col = []\n",
    "for i, row in df.iterrows():\n",
    "    new_col.append(row['Fines'] / (row['Refund'] * row['Year']))\n",
    "df['calculate_column'] = new_col"
   ]
  },
  {
   "cell_type": "code",
   "execution_count": 37,
   "metadata": {},
   "outputs": [
    {
     "data": {
      "text/plain": [
       "0     0.80\n",
       "1     3.26\n",
       "2     1.06\n",
       "3     0.50\n",
       "4     2.83\n",
       "      ... \n",
       "925   0.25\n",
       "926   3.77\n",
       "927   0.25\n",
       "928   2.17\n",
       "929   0.50\n",
       "Name: calculate_column, Length: 930, dtype: float64"
      ]
     },
     "execution_count": 37,
     "metadata": {},
     "output_type": "execute_result"
    }
   ],
   "source": [
    "df['calculate_column']"
   ]
  },
  {
   "cell_type": "markdown",
   "metadata": {},
   "source": [
    "- do it using apply() and lambda function"
   ]
  },
  {
   "cell_type": "code",
   "execution_count": 38,
   "metadata": {},
   "outputs": [
    {
     "name": "stdout",
     "output_type": "stream",
     "text": [
      "CPU times: user 15.1 ms, sys: 1.12 ms, total: 16.2 ms\n",
      "Wall time: 15.9 ms\n"
     ]
    }
   ],
   "source": [
    "%%time\n",
    "df['calculate_column'] = df.apply(lambda row: row['Fines'] / (row['Refund'] * row['Year']), axis=1)"
   ]
  },
  {
   "cell_type": "code",
   "execution_count": 39,
   "metadata": {},
   "outputs": [
    {
     "data": {
      "text/plain": [
       "0     0.80\n",
       "1     3.26\n",
       "2     1.06\n",
       "3     0.50\n",
       "4     2.83\n",
       "      ... \n",
       "925   0.25\n",
       "926   3.77\n",
       "927   0.25\n",
       "928   2.17\n",
       "929   0.50\n",
       "Name: calculate_column, Length: 930, dtype: float64"
      ]
     },
     "execution_count": 39,
     "metadata": {},
     "output_type": "execute_result"
    }
   ],
   "source": [
    "df['calculate_column']"
   ]
  },
  {
   "cell_type": "markdown",
   "metadata": {},
   "source": [
    "- do it using Series objects from the dataframe"
   ]
  },
  {
   "cell_type": "code",
   "execution_count": 40,
   "metadata": {},
   "outputs": [
    {
     "name": "stdout",
     "output_type": "stream",
     "text": [
      "CPU times: user 840 µs, sys: 536 µs, total: 1.38 ms\n",
      "Wall time: 10 ms\n"
     ]
    }
   ],
   "source": [
    "%%time\n",
    "df['calculate_column'] = df['Fines'] / (df['Refund'] * df['Year'])"
   ]
  },
  {
   "cell_type": "code",
   "execution_count": 41,
   "metadata": {},
   "outputs": [
    {
     "data": {
      "text/plain": [
       "0     0.80\n",
       "1     3.26\n",
       "2     1.06\n",
       "3     0.50\n",
       "4     2.83\n",
       "      ... \n",
       "925   0.25\n",
       "926   3.77\n",
       "927   0.25\n",
       "928   2.17\n",
       "929   0.50\n",
       "Name: calculate_column, Length: 930, dtype: float64"
      ]
     },
     "execution_count": 41,
     "metadata": {},
     "output_type": "execute_result"
    }
   ],
   "source": [
    "df['calculate_column']"
   ]
  },
  {
   "cell_type": "markdown",
   "metadata": {},
   "source": [
    "- do it as in the previous subtask but with the method .values"
   ]
  },
  {
   "cell_type": "code",
   "execution_count": 42,
   "metadata": {},
   "outputs": [
    {
     "name": "stdout",
     "output_type": "stream",
     "text": [
      "CPU times: user 770 µs, sys: 359 µs, total: 1.13 ms\n",
      "Wall time: 851 µs\n"
     ]
    }
   ],
   "source": [
    "%%time\n",
    "df['calculate_column'] = df['Fines'].values / (df['Refund'].values * df['Year'].values)"
   ]
  },
  {
   "cell_type": "code",
   "execution_count": 43,
   "metadata": {},
   "outputs": [
    {
     "data": {
      "text/plain": [
       "0     0.80\n",
       "1     3.26\n",
       "2     1.06\n",
       "3     0.50\n",
       "4     2.83\n",
       "      ... \n",
       "925   0.25\n",
       "926   3.77\n",
       "927   0.25\n",
       "928   2.17\n",
       "929   0.50\n",
       "Name: calculate_column, Length: 930, dtype: float64"
      ]
     },
     "execution_count": 43,
     "metadata": {},
     "output_type": "execute_result"
    }
   ],
   "source": [
    "df['calculate_column']"
   ]
  },
  {
   "cell_type": "markdown",
   "metadata": {},
   "source": [
    "## indexing: measure the time using the magic command %%timeit in the cell"
   ]
  },
  {
   "cell_type": "markdown",
   "metadata": {},
   "source": [
    "- get a row for a specific CarNumber, for example, ’O136HO197RUS’"
   ]
  },
  {
   "cell_type": "code",
   "execution_count": 44,
   "metadata": {},
   "outputs": [
    {
     "name": "stdout",
     "output_type": "stream",
     "text": [
      "CPU times: user 808 µs, sys: 693 µs, total: 1.5 ms\n",
      "Wall time: 2.22 ms\n"
     ]
    },
    {
     "data": {
      "text/html": [
       "<div>\n",
       "<style scoped>\n",
       "    .dataframe tbody tr th:only-of-type {\n",
       "        vertical-align: middle;\n",
       "    }\n",
       "\n",
       "    .dataframe tbody tr th {\n",
       "        vertical-align: top;\n",
       "    }\n",
       "\n",
       "    .dataframe thead th {\n",
       "        text-align: right;\n",
       "    }\n",
       "</style>\n",
       "<table border=\"1\" class=\"dataframe\">\n",
       "  <thead>\n",
       "    <tr style=\"text-align: right;\">\n",
       "      <th></th>\n",
       "      <th>CarNumber</th>\n",
       "      <th>Refund</th>\n",
       "      <th>Fines</th>\n",
       "      <th>Make</th>\n",
       "      <th>Model</th>\n",
       "      <th>Year</th>\n",
       "      <th>calculate_column</th>\n",
       "    </tr>\n",
       "  </thead>\n",
       "  <tbody>\n",
       "    <tr>\n",
       "      <th>715</th>\n",
       "      <td>O136HO197RUS</td>\n",
       "      <td>2</td>\n",
       "      <td>7800.00</td>\n",
       "      <td>Toyota</td>\n",
       "      <td>Corolla</td>\n",
       "      <td>1999</td>\n",
       "      <td>1.95</td>\n",
       "    </tr>\n",
       "    <tr>\n",
       "      <th>902</th>\n",
       "      <td>O136HO197RUS</td>\n",
       "      <td>2</td>\n",
       "      <td>7800.00</td>\n",
       "      <td>Toyota</td>\n",
       "      <td>Corolla</td>\n",
       "      <td>1991</td>\n",
       "      <td>1.96</td>\n",
       "    </tr>\n",
       "  </tbody>\n",
       "</table>\n",
       "</div>"
      ],
      "text/plain": [
       "        CarNumber  Refund   Fines    Make    Model  Year  calculate_column\n",
       "715  O136HO197RUS       2 7800.00  Toyota  Corolla  1999              1.95\n",
       "902  O136HO197RUS       2 7800.00  Toyota  Corolla  1991              1.96"
      ]
     },
     "execution_count": 44,
     "metadata": {},
     "output_type": "execute_result"
    }
   ],
   "source": [
    "%%time\n",
    "df.loc[df['CarNumber'] == 'O136HO197RUS']"
   ]
  },
  {
   "cell_type": "markdown",
   "metadata": {},
   "source": [
    "- set the index in your dataframe with CarNumber"
   ]
  },
  {
   "cell_type": "code",
   "execution_count": 45,
   "metadata": {},
   "outputs": [
    {
     "name": "stdout",
     "output_type": "stream",
     "text": [
      "CPU times: user 844 µs, sys: 714 µs, total: 1.56 ms\n",
      "Wall time: 3.23 ms\n"
     ]
    }
   ],
   "source": [
    "%%time\n",
    "df = df.set_index('CarNumber')"
   ]
  },
  {
   "cell_type": "markdown",
   "metadata": {},
   "source": [
    "- again, get a row for the same CarNumber"
   ]
  },
  {
   "cell_type": "code",
   "execution_count": 46,
   "metadata": {},
   "outputs": [
    {
     "name": "stdout",
     "output_type": "stream",
     "text": [
      "CPU times: user 909 µs, sys: 543 µs, total: 1.45 ms\n",
      "Wall time: 3.34 ms\n"
     ]
    },
    {
     "data": {
      "text/html": [
       "<div>\n",
       "<style scoped>\n",
       "    .dataframe tbody tr th:only-of-type {\n",
       "        vertical-align: middle;\n",
       "    }\n",
       "\n",
       "    .dataframe tbody tr th {\n",
       "        vertical-align: top;\n",
       "    }\n",
       "\n",
       "    .dataframe thead th {\n",
       "        text-align: right;\n",
       "    }\n",
       "</style>\n",
       "<table border=\"1\" class=\"dataframe\">\n",
       "  <thead>\n",
       "    <tr style=\"text-align: right;\">\n",
       "      <th></th>\n",
       "      <th>Refund</th>\n",
       "      <th>Fines</th>\n",
       "      <th>Make</th>\n",
       "      <th>Model</th>\n",
       "      <th>Year</th>\n",
       "      <th>calculate_column</th>\n",
       "    </tr>\n",
       "    <tr>\n",
       "      <th>CarNumber</th>\n",
       "      <th></th>\n",
       "      <th></th>\n",
       "      <th></th>\n",
       "      <th></th>\n",
       "      <th></th>\n",
       "      <th></th>\n",
       "    </tr>\n",
       "  </thead>\n",
       "  <tbody>\n",
       "    <tr>\n",
       "      <th>O136HO197RUS</th>\n",
       "      <td>2</td>\n",
       "      <td>7800.00</td>\n",
       "      <td>Toyota</td>\n",
       "      <td>Corolla</td>\n",
       "      <td>1999</td>\n",
       "      <td>1.95</td>\n",
       "    </tr>\n",
       "    <tr>\n",
       "      <th>O136HO197RUS</th>\n",
       "      <td>2</td>\n",
       "      <td>7800.00</td>\n",
       "      <td>Toyota</td>\n",
       "      <td>Corolla</td>\n",
       "      <td>1991</td>\n",
       "      <td>1.96</td>\n",
       "    </tr>\n",
       "  </tbody>\n",
       "</table>\n",
       "</div>"
      ],
      "text/plain": [
       "              Refund   Fines    Make    Model  Year  calculate_column\n",
       "CarNumber                                                            \n",
       "O136HO197RUS       2 7800.00  Toyota  Corolla  1999              1.95\n",
       "O136HO197RUS       2 7800.00  Toyota  Corolla  1991              1.96"
      ]
     },
     "execution_count": 46,
     "metadata": {},
     "output_type": "execute_result"
    }
   ],
   "source": [
    "%%time\n",
    "df.loc['O136HO197RUS']"
   ]
  },
  {
   "cell_type": "markdown",
   "metadata": {},
   "source": [
    "## downcasting:"
   ]
  },
  {
   "cell_type": "markdown",
   "metadata": {},
   "source": [
    "- run df.info(memory_usage=’deep’), pay attention to the Dtype and the memory usage"
   ]
  },
  {
   "cell_type": "code",
   "execution_count": 47,
   "metadata": {},
   "outputs": [
    {
     "name": "stdout",
     "output_type": "stream",
     "text": [
      "<class 'pandas.core.frame.DataFrame'>\n",
      "Index: 930 entries, Y163O8161RUS to T171CC96RUS\n",
      "Data columns (total 6 columns):\n",
      " #   Column            Non-Null Count  Dtype  \n",
      "---  ------            --------------  -----  \n",
      " 0   Refund            930 non-null    int64  \n",
      " 1   Fines             930 non-null    float64\n",
      " 2   Make              930 non-null    object \n",
      " 3   Model             919 non-null    object \n",
      " 4   Year              930 non-null    int64  \n",
      " 5   calculate_column  930 non-null    float64\n",
      "dtypes: float64(2), int64(2), object(2)\n",
      "memory usage: 236.0 KB\n",
      "CPU times: user 6.49 ms, sys: 4.41 ms, total: 10.9 ms\n",
      "Wall time: 15.2 ms\n"
     ]
    }
   ],
   "source": [
    "%%time\n",
    "df.info(memory_usage='deep')"
   ]
  },
  {
   "cell_type": "markdown",
   "metadata": {},
   "source": [
    "- make a copy() of your initial dataframe into another dataframe optimized"
   ]
  },
  {
   "cell_type": "code",
   "execution_count": 48,
   "metadata": {},
   "outputs": [
    {
     "data": {
      "text/html": [
       "<div>\n",
       "<style scoped>\n",
       "    .dataframe tbody tr th:only-of-type {\n",
       "        vertical-align: middle;\n",
       "    }\n",
       "\n",
       "    .dataframe tbody tr th {\n",
       "        vertical-align: top;\n",
       "    }\n",
       "\n",
       "    .dataframe thead th {\n",
       "        text-align: right;\n",
       "    }\n",
       "</style>\n",
       "<table border=\"1\" class=\"dataframe\">\n",
       "  <thead>\n",
       "    <tr style=\"text-align: right;\">\n",
       "      <th></th>\n",
       "      <th>Refund</th>\n",
       "      <th>Fines</th>\n",
       "      <th>Make</th>\n",
       "      <th>Model</th>\n",
       "      <th>Year</th>\n",
       "      <th>calculate_column</th>\n",
       "    </tr>\n",
       "    <tr>\n",
       "      <th>CarNumber</th>\n",
       "      <th></th>\n",
       "      <th></th>\n",
       "      <th></th>\n",
       "      <th></th>\n",
       "      <th></th>\n",
       "      <th></th>\n",
       "    </tr>\n",
       "  </thead>\n",
       "  <tbody>\n",
       "    <tr>\n",
       "      <th>Y163O8161RUS</th>\n",
       "      <td>2</td>\n",
       "      <td>3200.00</td>\n",
       "      <td>Ford</td>\n",
       "      <td>Focus</td>\n",
       "      <td>1989</td>\n",
       "      <td>0.80</td>\n",
       "    </tr>\n",
       "    <tr>\n",
       "      <th>E432XX77RUS</th>\n",
       "      <td>1</td>\n",
       "      <td>6500.00</td>\n",
       "      <td>Toyota</td>\n",
       "      <td>Camry</td>\n",
       "      <td>1995</td>\n",
       "      <td>3.26</td>\n",
       "    </tr>\n",
       "    <tr>\n",
       "      <th>7184TT36RUS</th>\n",
       "      <td>1</td>\n",
       "      <td>2100.00</td>\n",
       "      <td>Ford</td>\n",
       "      <td>Focus</td>\n",
       "      <td>1984</td>\n",
       "      <td>1.06</td>\n",
       "    </tr>\n",
       "    <tr>\n",
       "      <th>X582HE161RUS</th>\n",
       "      <td>2</td>\n",
       "      <td>2000.00</td>\n",
       "      <td>Ford</td>\n",
       "      <td>Focus</td>\n",
       "      <td>2015</td>\n",
       "      <td>0.50</td>\n",
       "    </tr>\n",
       "    <tr>\n",
       "      <th>92918M178RUS</th>\n",
       "      <td>1</td>\n",
       "      <td>5700.00</td>\n",
       "      <td>Ford</td>\n",
       "      <td>Focus</td>\n",
       "      <td>2014</td>\n",
       "      <td>2.83</td>\n",
       "    </tr>\n",
       "    <tr>\n",
       "      <th>...</th>\n",
       "      <td>...</td>\n",
       "      <td>...</td>\n",
       "      <td>...</td>\n",
       "      <td>...</td>\n",
       "      <td>...</td>\n",
       "      <td>...</td>\n",
       "    </tr>\n",
       "    <tr>\n",
       "      <th>C584EY154RUS</th>\n",
       "      <td>1</td>\n",
       "      <td>500.00</td>\n",
       "      <td>Ford</td>\n",
       "      <td>Focus</td>\n",
       "      <td>2014</td>\n",
       "      <td>0.25</td>\n",
       "    </tr>\n",
       "    <tr>\n",
       "      <th>T395KX197RUS</th>\n",
       "      <td>2</td>\n",
       "      <td>15200.00</td>\n",
       "      <td>Ford</td>\n",
       "      <td>Focus</td>\n",
       "      <td>2016</td>\n",
       "      <td>3.77</td>\n",
       "    </tr>\n",
       "    <tr>\n",
       "      <th>8441XX154RUS</th>\n",
       "      <td>1</td>\n",
       "      <td>500.00</td>\n",
       "      <td>Ford</td>\n",
       "      <td>Focus</td>\n",
       "      <td>1994</td>\n",
       "      <td>0.25</td>\n",
       "    </tr>\n",
       "    <tr>\n",
       "      <th>C590EY154RUS</th>\n",
       "      <td>2</td>\n",
       "      <td>8594.60</td>\n",
       "      <td>Ford</td>\n",
       "      <td>Focus</td>\n",
       "      <td>1982</td>\n",
       "      <td>2.17</td>\n",
       "    </tr>\n",
       "    <tr>\n",
       "      <th>T171CC96RUS</th>\n",
       "      <td>1</td>\n",
       "      <td>1000.00</td>\n",
       "      <td>Ford</td>\n",
       "      <td>Focus</td>\n",
       "      <td>2017</td>\n",
       "      <td>0.50</td>\n",
       "    </tr>\n",
       "  </tbody>\n",
       "</table>\n",
       "<p>930 rows × 6 columns</p>\n",
       "</div>"
      ],
      "text/plain": [
       "              Refund    Fines    Make  Model  Year  calculate_column\n",
       "CarNumber                                                           \n",
       "Y163O8161RUS       2  3200.00    Ford  Focus  1989              0.80\n",
       "E432XX77RUS        1  6500.00  Toyota  Camry  1995              3.26\n",
       "7184TT36RUS        1  2100.00    Ford  Focus  1984              1.06\n",
       "X582HE161RUS       2  2000.00    Ford  Focus  2015              0.50\n",
       "92918M178RUS       1  5700.00    Ford  Focus  2014              2.83\n",
       "...              ...      ...     ...    ...   ...               ...\n",
       "C584EY154RUS       1   500.00    Ford  Focus  2014              0.25\n",
       "T395KX197RUS       2 15200.00    Ford  Focus  2016              3.77\n",
       "8441XX154RUS       1   500.00    Ford  Focus  1994              0.25\n",
       "C590EY154RUS       2  8594.60    Ford  Focus  1982              2.17\n",
       "T171CC96RUS        1  1000.00    Ford  Focus  2017              0.50\n",
       "\n",
       "[930 rows x 6 columns]"
      ]
     },
     "execution_count": 48,
     "metadata": {},
     "output_type": "execute_result"
    }
   ],
   "source": [
    "df_copy = df.copy()\n",
    "df_copy"
   ]
  },
  {
   "cell_type": "markdown",
   "metadata": {},
   "source": [
    "- downcast from float64 to float32 for all the columns"
   ]
  },
  {
   "cell_type": "code",
   "execution_count": 49,
   "metadata": {},
   "outputs": [
    {
     "data": {
      "text/html": [
       "<div>\n",
       "<style scoped>\n",
       "    .dataframe tbody tr th:only-of-type {\n",
       "        vertical-align: middle;\n",
       "    }\n",
       "\n",
       "    .dataframe tbody tr th {\n",
       "        vertical-align: top;\n",
       "    }\n",
       "\n",
       "    .dataframe thead th {\n",
       "        text-align: right;\n",
       "    }\n",
       "</style>\n",
       "<table border=\"1\" class=\"dataframe\">\n",
       "  <thead>\n",
       "    <tr style=\"text-align: right;\">\n",
       "      <th></th>\n",
       "      <th>Refund</th>\n",
       "      <th>Fines</th>\n",
       "      <th>Make</th>\n",
       "      <th>Model</th>\n",
       "      <th>Year</th>\n",
       "      <th>calculate_column</th>\n",
       "    </tr>\n",
       "    <tr>\n",
       "      <th>CarNumber</th>\n",
       "      <th></th>\n",
       "      <th></th>\n",
       "      <th></th>\n",
       "      <th></th>\n",
       "      <th></th>\n",
       "      <th></th>\n",
       "    </tr>\n",
       "  </thead>\n",
       "  <tbody>\n",
       "    <tr>\n",
       "      <th>Y163O8161RUS</th>\n",
       "      <td>2</td>\n",
       "      <td>3200.00</td>\n",
       "      <td>Ford</td>\n",
       "      <td>Focus</td>\n",
       "      <td>1989</td>\n",
       "      <td>0.80</td>\n",
       "    </tr>\n",
       "    <tr>\n",
       "      <th>E432XX77RUS</th>\n",
       "      <td>1</td>\n",
       "      <td>6500.00</td>\n",
       "      <td>Toyota</td>\n",
       "      <td>Camry</td>\n",
       "      <td>1995</td>\n",
       "      <td>3.26</td>\n",
       "    </tr>\n",
       "    <tr>\n",
       "      <th>7184TT36RUS</th>\n",
       "      <td>1</td>\n",
       "      <td>2100.00</td>\n",
       "      <td>Ford</td>\n",
       "      <td>Focus</td>\n",
       "      <td>1984</td>\n",
       "      <td>1.06</td>\n",
       "    </tr>\n",
       "    <tr>\n",
       "      <th>X582HE161RUS</th>\n",
       "      <td>2</td>\n",
       "      <td>2000.00</td>\n",
       "      <td>Ford</td>\n",
       "      <td>Focus</td>\n",
       "      <td>2015</td>\n",
       "      <td>0.50</td>\n",
       "    </tr>\n",
       "    <tr>\n",
       "      <th>92918M178RUS</th>\n",
       "      <td>1</td>\n",
       "      <td>5700.00</td>\n",
       "      <td>Ford</td>\n",
       "      <td>Focus</td>\n",
       "      <td>2014</td>\n",
       "      <td>2.83</td>\n",
       "    </tr>\n",
       "    <tr>\n",
       "      <th>...</th>\n",
       "      <td>...</td>\n",
       "      <td>...</td>\n",
       "      <td>...</td>\n",
       "      <td>...</td>\n",
       "      <td>...</td>\n",
       "      <td>...</td>\n",
       "    </tr>\n",
       "    <tr>\n",
       "      <th>C584EY154RUS</th>\n",
       "      <td>1</td>\n",
       "      <td>500.00</td>\n",
       "      <td>Ford</td>\n",
       "      <td>Focus</td>\n",
       "      <td>2014</td>\n",
       "      <td>0.25</td>\n",
       "    </tr>\n",
       "    <tr>\n",
       "      <th>T395KX197RUS</th>\n",
       "      <td>2</td>\n",
       "      <td>15200.00</td>\n",
       "      <td>Ford</td>\n",
       "      <td>Focus</td>\n",
       "      <td>2016</td>\n",
       "      <td>3.77</td>\n",
       "    </tr>\n",
       "    <tr>\n",
       "      <th>8441XX154RUS</th>\n",
       "      <td>1</td>\n",
       "      <td>500.00</td>\n",
       "      <td>Ford</td>\n",
       "      <td>Focus</td>\n",
       "      <td>1994</td>\n",
       "      <td>0.25</td>\n",
       "    </tr>\n",
       "    <tr>\n",
       "      <th>C590EY154RUS</th>\n",
       "      <td>2</td>\n",
       "      <td>8594.60</td>\n",
       "      <td>Ford</td>\n",
       "      <td>Focus</td>\n",
       "      <td>1982</td>\n",
       "      <td>2.17</td>\n",
       "    </tr>\n",
       "    <tr>\n",
       "      <th>T171CC96RUS</th>\n",
       "      <td>1</td>\n",
       "      <td>1000.00</td>\n",
       "      <td>Ford</td>\n",
       "      <td>Focus</td>\n",
       "      <td>2017</td>\n",
       "      <td>0.50</td>\n",
       "    </tr>\n",
       "  </tbody>\n",
       "</table>\n",
       "<p>930 rows × 6 columns</p>\n",
       "</div>"
      ],
      "text/plain": [
       "              Refund    Fines    Make  Model  Year  calculate_column\n",
       "CarNumber                                                           \n",
       "Y163O8161RUS       2  3200.00    Ford  Focus  1989              0.80\n",
       "E432XX77RUS        1  6500.00  Toyota  Camry  1995              3.26\n",
       "7184TT36RUS        1  2100.00    Ford  Focus  1984              1.06\n",
       "X582HE161RUS       2  2000.00    Ford  Focus  2015              0.50\n",
       "92918M178RUS       1  5700.00    Ford  Focus  2014              2.83\n",
       "...              ...      ...     ...    ...   ...               ...\n",
       "C584EY154RUS       1   500.00    Ford  Focus  2014              0.25\n",
       "T395KX197RUS       2 15200.00    Ford  Focus  2016              3.77\n",
       "8441XX154RUS       1   500.00    Ford  Focus  1994              0.25\n",
       "C590EY154RUS       2  8594.60    Ford  Focus  1982              2.17\n",
       "T171CC96RUS        1  1000.00    Ford  Focus  2017              0.50\n",
       "\n",
       "[930 rows x 6 columns]"
      ]
     },
     "execution_count": 49,
     "metadata": {},
     "output_type": "execute_result"
    }
   ],
   "source": [
    "df_copy['Fines'] = df_copy['Fines'].astype(\"float32\")\n",
    "df_copy['calculate_column'] = df_copy['calculate_column'].astype(\"float32\")\n",
    "df_copy"
   ]
  },
  {
   "cell_type": "markdown",
   "metadata": {},
   "source": [
    "-  downcast from int64 to the smallest numerical dtype possible"
   ]
  },
  {
   "cell_type": "code",
   "execution_count": 50,
   "metadata": {},
   "outputs": [],
   "source": [
    "df_copy['Refund'] = pd.to_numeric(df_copy['Refund'], downcast='integer')\n",
    "df_copy['Year'] = pd.to_numeric(df_copy['Year'], downcast='integer')"
   ]
  },
  {
   "cell_type": "markdown",
   "metadata": {},
   "source": [
    "-  run info(memory_usage=’deep’) for your new dataframe, pay attention to the<br>Dtype and the memory usage"
   ]
  },
  {
   "cell_type": "code",
   "execution_count": 51,
   "metadata": {},
   "outputs": [
    {
     "name": "stdout",
     "output_type": "stream",
     "text": [
      "<class 'pandas.core.frame.DataFrame'>\n",
      "Index: 930 entries, Y163O8161RUS to T171CC96RUS\n",
      "Data columns (total 6 columns):\n",
      " #   Column            Non-Null Count  Dtype  \n",
      "---  ------            --------------  -----  \n",
      " 0   Refund            930 non-null    int8   \n",
      " 1   Fines             930 non-null    float32\n",
      " 2   Make              930 non-null    object \n",
      " 3   Model             919 non-null    object \n",
      " 4   Year              930 non-null    int16  \n",
      " 5   calculate_column  930 non-null    float32\n",
      "dtypes: float32(2), int16(1), int8(1), object(2)\n",
      "memory usage: 216.9 KB\n"
     ]
    }
   ],
   "source": [
    "df_copy.info(memory_usage='deep')"
   ]
  },
  {
   "cell_type": "markdown",
   "metadata": {},
   "source": [
    "## categories:"
   ]
  },
  {
   "cell_type": "markdown",
   "metadata": {},
   "source": [
    "- change the object type columns to the type category"
   ]
  },
  {
   "cell_type": "code",
   "execution_count": 52,
   "metadata": {},
   "outputs": [],
   "source": [
    "df_copy.reset_index(inplace=True)"
   ]
  },
  {
   "cell_type": "code",
   "execution_count": 53,
   "metadata": {},
   "outputs": [],
   "source": [
    "df_copy.reset_index()\n",
    "df_copy['CarNumber'] = df_copy['CarNumber'].astype('category')\n",
    "df_copy['Make'] = df_copy['Make'].astype('category')\n",
    "df_copy['Model'] = df_copy['Model'].astype('category')"
   ]
  },
  {
   "cell_type": "markdown",
   "metadata": {},
   "source": [
    "- This time, check the memory usage, it probably has a decrease of 2-3 times<br>compared to the initial dataframe"
   ]
  },
  {
   "cell_type": "code",
   "execution_count": 54,
   "metadata": {},
   "outputs": [
    {
     "name": "stdout",
     "output_type": "stream",
     "text": [
      "<class 'pandas.core.frame.DataFrame'>\n",
      "RangeIndex: 930 entries, 0 to 929\n",
      "Data columns (total 7 columns):\n",
      " #   Column            Non-Null Count  Dtype   \n",
      "---  ------            --------------  -----   \n",
      " 0   CarNumber         930 non-null    category\n",
      " 1   Refund            930 non-null    int8    \n",
      " 2   Fines             930 non-null    float32 \n",
      " 3   Make              930 non-null    category\n",
      " 4   Model             919 non-null    category\n",
      " 5   Year              930 non-null    int16   \n",
      " 6   calculate_column  930 non-null    float32 \n",
      "dtypes: category(3), float32(2), int16(1), int8(1)\n",
      "memory usage: 67.2 KB\n"
     ]
    }
   ],
   "source": [
    "df_copy.info(memory_usage='deep')"
   ]
  },
  {
   "cell_type": "markdown",
   "metadata": {},
   "source": [
    "## memory clean"
   ]
  },
  {
   "cell_type": "markdown",
   "metadata": {},
   "source": [
    "- using %reset_selective and the library gc clean the memory of your initial<br>dataframe only"
   ]
  },
  {
   "cell_type": "code",
   "execution_count": 55,
   "metadata": {},
   "outputs": [
    {
     "data": {
      "text/html": [
       "<div>\n",
       "<style scoped>\n",
       "    .dataframe tbody tr th:only-of-type {\n",
       "        vertical-align: middle;\n",
       "    }\n",
       "\n",
       "    .dataframe tbody tr th {\n",
       "        vertical-align: top;\n",
       "    }\n",
       "\n",
       "    .dataframe thead th {\n",
       "        text-align: right;\n",
       "    }\n",
       "</style>\n",
       "<table border=\"1\" class=\"dataframe\">\n",
       "  <thead>\n",
       "    <tr style=\"text-align: right;\">\n",
       "      <th></th>\n",
       "      <th>Refund</th>\n",
       "      <th>Fines</th>\n",
       "      <th>Make</th>\n",
       "      <th>Model</th>\n",
       "      <th>Year</th>\n",
       "      <th>calculate_column</th>\n",
       "    </tr>\n",
       "    <tr>\n",
       "      <th>CarNumber</th>\n",
       "      <th></th>\n",
       "      <th></th>\n",
       "      <th></th>\n",
       "      <th></th>\n",
       "      <th></th>\n",
       "      <th></th>\n",
       "    </tr>\n",
       "  </thead>\n",
       "  <tbody>\n",
       "    <tr>\n",
       "      <th>Y163O8161RUS</th>\n",
       "      <td>2</td>\n",
       "      <td>3200.00</td>\n",
       "      <td>Ford</td>\n",
       "      <td>Focus</td>\n",
       "      <td>1989</td>\n",
       "      <td>0.80</td>\n",
       "    </tr>\n",
       "    <tr>\n",
       "      <th>E432XX77RUS</th>\n",
       "      <td>1</td>\n",
       "      <td>6500.00</td>\n",
       "      <td>Toyota</td>\n",
       "      <td>Camry</td>\n",
       "      <td>1995</td>\n",
       "      <td>3.26</td>\n",
       "    </tr>\n",
       "    <tr>\n",
       "      <th>7184TT36RUS</th>\n",
       "      <td>1</td>\n",
       "      <td>2100.00</td>\n",
       "      <td>Ford</td>\n",
       "      <td>Focus</td>\n",
       "      <td>1984</td>\n",
       "      <td>1.06</td>\n",
       "    </tr>\n",
       "    <tr>\n",
       "      <th>X582HE161RUS</th>\n",
       "      <td>2</td>\n",
       "      <td>2000.00</td>\n",
       "      <td>Ford</td>\n",
       "      <td>Focus</td>\n",
       "      <td>2015</td>\n",
       "      <td>0.50</td>\n",
       "    </tr>\n",
       "    <tr>\n",
       "      <th>92918M178RUS</th>\n",
       "      <td>1</td>\n",
       "      <td>5700.00</td>\n",
       "      <td>Ford</td>\n",
       "      <td>Focus</td>\n",
       "      <td>2014</td>\n",
       "      <td>2.83</td>\n",
       "    </tr>\n",
       "    <tr>\n",
       "      <th>...</th>\n",
       "      <td>...</td>\n",
       "      <td>...</td>\n",
       "      <td>...</td>\n",
       "      <td>...</td>\n",
       "      <td>...</td>\n",
       "      <td>...</td>\n",
       "    </tr>\n",
       "    <tr>\n",
       "      <th>C584EY154RUS</th>\n",
       "      <td>1</td>\n",
       "      <td>500.00</td>\n",
       "      <td>Ford</td>\n",
       "      <td>Focus</td>\n",
       "      <td>2014</td>\n",
       "      <td>0.25</td>\n",
       "    </tr>\n",
       "    <tr>\n",
       "      <th>T395KX197RUS</th>\n",
       "      <td>2</td>\n",
       "      <td>15200.00</td>\n",
       "      <td>Ford</td>\n",
       "      <td>Focus</td>\n",
       "      <td>2016</td>\n",
       "      <td>3.77</td>\n",
       "    </tr>\n",
       "    <tr>\n",
       "      <th>8441XX154RUS</th>\n",
       "      <td>1</td>\n",
       "      <td>500.00</td>\n",
       "      <td>Ford</td>\n",
       "      <td>Focus</td>\n",
       "      <td>1994</td>\n",
       "      <td>0.25</td>\n",
       "    </tr>\n",
       "    <tr>\n",
       "      <th>C590EY154RUS</th>\n",
       "      <td>2</td>\n",
       "      <td>8594.60</td>\n",
       "      <td>Ford</td>\n",
       "      <td>Focus</td>\n",
       "      <td>1982</td>\n",
       "      <td>2.17</td>\n",
       "    </tr>\n",
       "    <tr>\n",
       "      <th>T171CC96RUS</th>\n",
       "      <td>1</td>\n",
       "      <td>1000.00</td>\n",
       "      <td>Ford</td>\n",
       "      <td>Focus</td>\n",
       "      <td>2017</td>\n",
       "      <td>0.50</td>\n",
       "    </tr>\n",
       "  </tbody>\n",
       "</table>\n",
       "<p>930 rows × 6 columns</p>\n",
       "</div>"
      ],
      "text/plain": [
       "              Refund    Fines    Make  Model  Year  calculate_column\n",
       "CarNumber                                                           \n",
       "Y163O8161RUS       2  3200.00    Ford  Focus  1989              0.80\n",
       "E432XX77RUS        1  6500.00  Toyota  Camry  1995              3.26\n",
       "7184TT36RUS        1  2100.00    Ford  Focus  1984              1.06\n",
       "X582HE161RUS       2  2000.00    Ford  Focus  2015              0.50\n",
       "92918M178RUS       1  5700.00    Ford  Focus  2014              2.83\n",
       "...              ...      ...     ...    ...   ...               ...\n",
       "C584EY154RUS       1   500.00    Ford  Focus  2014              0.25\n",
       "T395KX197RUS       2 15200.00    Ford  Focus  2016              3.77\n",
       "8441XX154RUS       1   500.00    Ford  Focus  1994              0.25\n",
       "C590EY154RUS       2  8594.60    Ford  Focus  1982              2.17\n",
       "T171CC96RUS        1  1000.00    Ford  Focus  2017              0.50\n",
       "\n",
       "[930 rows x 6 columns]"
      ]
     },
     "execution_count": 55,
     "metadata": {},
     "output_type": "execute_result"
    }
   ],
   "source": [
    "df"
   ]
  },
  {
   "cell_type": "code",
   "execution_count": 56,
   "metadata": {},
   "outputs": [],
   "source": [
    "%reset_selective -f df"
   ]
  },
  {
   "cell_type": "code",
   "execution_count": 57,
   "metadata": {},
   "outputs": [
    {
     "ename": "NameError",
     "evalue": "name 'df' is not defined",
     "output_type": "error",
     "traceback": [
      "\u001b[0;31m---------------------------------------------------------------------------\u001b[0m",
      "\u001b[0;31mNameError\u001b[0m                                 Traceback (most recent call last)",
      "\u001b[0;32m/var/folders/zz/zyxvpxvq6csfxvn_n003vrph00yy5m/T/ipykernel_26250/1396537375.py\u001b[0m in \u001b[0;36m<module>\u001b[0;34m\u001b[0m\n\u001b[0;32m----> 1\u001b[0;31m \u001b[0mdf\u001b[0m\u001b[0;34m\u001b[0m\u001b[0;34m\u001b[0m\u001b[0m\n\u001b[0m",
      "\u001b[0;31mNameError\u001b[0m: name 'df' is not defined"
     ]
    }
   ],
   "source": [
    "df"
   ]
  }
 ],
 "metadata": {
  "interpreter": {
   "hash": "92915dc5d68e58d4f87d0ba804c0a96007b8ba1b8a09c5cc234639fc154b6859"
  },
  "kernelspec": {
   "display_name": "Python 3.7.9 ('venv': venv)",
   "language": "python",
   "name": "python3"
  },
  "language_info": {
   "codemirror_mode": {
    "name": "ipython",
    "version": 3
   },
   "file_extension": ".py",
   "mimetype": "text/x-python",
   "name": "python",
   "nbconvert_exporter": "python",
   "pygments_lexer": "ipython3",
   "version": "3.7.9"
  },
  "orig_nbformat": 4
 },
 "nbformat": 4,
 "nbformat_minor": 2
}
